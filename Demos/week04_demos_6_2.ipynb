{
 "metadata": {
  "language_info": {
   "codemirror_mode": {
    "name": "ipython",
    "version": 3
   },
   "file_extension": ".py",
   "mimetype": "text/x-python",
   "name": "python",
   "nbconvert_exporter": "python",
   "pygments_lexer": "ipython3",
   "version": "3.8.3"
  },
  "orig_nbformat": 2,
  "kernelspec": {
   "name": "python383jvsc74a57bd0b3ba2566441a7c06988d0923437866b63cedc61552a5af99d1f4fb67d367b25f",
   "display_name": "Python 3.8.3 64-bit ('base': conda)"
  }
 },
 "nbformat": 4,
 "nbformat_minor": 2,
 "cells": [
  {
   "cell_type": "code",
   "execution_count": 2,
   "metadata": {
    "tags": []
   },
   "outputs": [
    {
     "output_type": "stream",
     "name": "stdout",
     "text": [
      "There is a match for your birthday in the data.\n"
     ]
    }
   ],
   "source": [
    "bday=input('Enter a date of birth in the form DDMMYY:')\n",
    "\n",
    "with open(\"pi_million.txt\") as f:\n",
    "    lines = f.readlines()\n",
    "wasinpi = False\n",
    "for line in lines:\n",
    "   if bday in line:\n",
    "     print('There is a match for your birthday in the data.')\n",
    "     wasinpi = True\n",
    "if wasinpi == False:\n",
    "     print('There is no match for your birthday.')"
   ]
  },
  {
   "cell_type": "code",
   "execution_count": null,
   "metadata": {},
   "outputs": [],
   "source": [
    "import json\n",
    "\n",
    "num_list = [5, \"mixed list\", 98, 90.34]\n",
    "\n",
    "with open(\"list.json\", \"w\") as f:\n",
    "    \n",
    "\n",
    "\n"
   ]
  }
 ]
}