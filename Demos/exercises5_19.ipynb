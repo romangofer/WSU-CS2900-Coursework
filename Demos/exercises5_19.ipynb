{
 "metadata": {
  "language_info": {
   "codemirror_mode": {
    "name": "ipython",
    "version": 3
   },
   "file_extension": ".py",
   "mimetype": "text/x-python",
   "name": "python",
   "nbconvert_exporter": "python",
   "pygments_lexer": "ipython3",
   "version": "3.8.3"
  },
  "orig_nbformat": 2,
  "kernelspec": {
   "name": "python383jvsc74a57bd0b3ba2566441a7c06988d0923437866b63cedc61552a5af99d1f4fb67d367b25f",
   "display_name": "Python 3.8.3 64-bit ('base': conda)"
  }
 },
 "nbformat": 4,
 "nbformat_minor": 2,
 "cells": [
  {
   "cell_type": "code",
   "execution_count": 1,
   "metadata": {},
   "outputs": [
    {
     "output_type": "stream",
     "name": "stdout",
     "text": [
      "22\n[4, 17, 4, 27, 30, 8, 6, 17, 27, 7, 1, 13, 6, 16, 17, 1, 8, 1, 7]\n"
     ]
    }
   ],
   "source": [
    "# Exercise: Create random number list\n",
    "import random\n",
    "print(random.randint(1,30))\n",
    "random_list=[]\n",
    "for i in range(1,20):\n",
    "    random_list.append(random.randint(1,30))\n",
    "print(random_list)\n"
   ]
  },
  {
   "cell_type": "code",
   "execution_count": 2,
   "metadata": {},
   "outputs": [
    {
     "output_type": "stream",
     "name": "stdout",
     "text": [
      "[4, 17, 4, 27, 30, 8, 6, 17, 27, 7, 1, 13, 6, 16, 17, 1, 8, 1, 7]\nAverage: 11.421052631578947\n"
     ]
    }
   ],
   "source": [
    "print(random_list)\n",
    "sum_list = sum(random_list)\n",
    "len_list = len(random_list)\n",
    "avg_num = sum_list / len_list\n",
    "print(f\"Average: {avg_num}\")"
   ]
  },
  {
   "cell_type": "code",
   "execution_count": 36,
   "metadata": {},
   "outputs": [
    {
     "output_type": "stream",
     "name": "stdout",
     "text": [
      "My first three favorite toppings are:\n\tpepperoni\n\tonion\n\tgarlic\nMy middle three favorite toppings are:\n\tonion\n\tgarlic\n\tchicken\nLast three toppings are:\n\tgarlic\n\tchicken\n\tfeta cheese\n"
     ]
    }
   ],
   "source": [
    "topping_list=['pepperoni','onion','garlic','chicken','feta cheese']\n",
    "print(\"My first three favorite toppings are:\")\n",
    "for topping in topping_list[:3]:\n",
    "    print(f\"\\t{topping}\")\n",
    "\n",
    "print(\"My middle three favorite toppings are:\")\n",
    "for topping in topping_list[1:4]:\n",
    "    print(f\"\\t{topping}\")\n",
    "\n",
    "print(\"Last three toppings are:\")\n",
    "for topping in topping_list[2:5]:\n",
    "    print(f\"\\t{topping}\")"
   ]
  },
  {
   "cell_type": "code",
   "execution_count": 21,
   "metadata": {},
   "outputs": [
    {
     "output_type": "stream",
     "name": "stdout",
     "text": [
      "('pullman', 'corey')\n"
     ]
    }
   ],
   "source": [
    "authors = ('corey', 'nix', 'pierce')\n",
    "#authors.append('adams')\n",
    "#authors[2] = 'pullman'\n",
    "authors = ('pullman','corey')\n",
    "print(authors)"
   ]
  },
  {
   "cell_type": "code",
   "execution_count": 23,
   "metadata": {},
   "outputs": [
    {
     "output_type": "stream",
     "name": "stdout",
     "text": [
      "False\nFalse\nTrue\nTrue\n"
     ]
    }
   ],
   "source": [
    "print(4>5)\n",
    "print(4 > 8 and 3 > 1)\n",
    "print(8 > 4 and 3 > 1)\n",
    "print(4 > 8 or 3 > 1)"
   ]
  },
  {
   "cell_type": "code",
   "execution_count": 35,
   "metadata": {},
   "outputs": [
    {
     "output_type": "stream",
     "name": "stdout",
     "text": [
      "True\nTrue\nFalse\n"
     ]
    }
   ],
   "source": [
    "list_items = ['hat', 'scarf', 'socks']\n",
    "print('hat' in list_items)\n",
    "print('shirt' not in list_items)\n",
    "print('socks' not in list_items)\n"
   ]
  },
  {
   "cell_type": "code",
   "execution_count": 24,
   "metadata": {},
   "outputs": [
    {
     "output_type": "stream",
     "name": "stdout",
     "text": [
      "There are apples.\nThere are lemons.\n"
     ]
    }
   ],
   "source": [
    "fruits = ['bananas', 'apples', 'oranges', 'lemons', 'limes', 'pears']\n",
    "\n",
    "if ('apples' in fruits) and ('pears' in fruits):\n",
    "   print ('There are apples.')\n",
    "else:\n",
    "    print(\"One of those things was not in the list.\")\n",
    "\n",
    "if 'peaches' in fruits:\n",
    "   print ('There are peaches.')\n",
    "elif 'lemons' in fruits:\n",
    "   print ('There are lemons.')\n",
    "else:\n",
    "    print('Talk about limited options.')\n"
   ]
  },
  {
   "cell_type": "code",
   "execution_count": 25,
   "metadata": {},
   "outputs": [
    {
     "output_type": "stream",
     "name": "stdout",
     "text": [
      "I LOVE APPLES\n"
     ]
    }
   ],
   "source": [
    "for fruit in fruits:\n",
    "    if fruit == 'apples':\n",
    "        print (\"I LOVE APPLES\")"
   ]
  },
  {
   "cell_type": "code",
   "execution_count": 27,
   "metadata": {},
   "outputs": [
    {
     "output_type": "stream",
     "name": "stdout",
     "text": [
      "['bananas', 'apples', 'oranges', 'lemons', 'limes', 'pears']\nThat list was empty\n"
     ]
    }
   ],
   "source": [
    "if fruits:\n",
    "    print (fruits)\n",
    "fruits = []\n",
    "if fruits:\n",
    "    print (fruits)\n",
    "else:\n",
    "    print(\"That list was empty\")\n"
   ]
  },
  {
   "cell_type": "code",
   "execution_count": null,
   "metadata": {},
   "outputs": [],
   "source": [
    "if len(fruits) == empty"
   ]
  },
  {
   "cell_type": "code",
   "execution_count": 34,
   "metadata": {},
   "outputs": [
    {
     "output_type": "stream",
     "name": "stdout",
     "text": [
      "['Bob', 'Sally', 'John', 'Joe', 'Mike', 'Sue', 'Bobbie', 'superman', 'Jane', 'meanie']\n"
     ]
    }
   ],
   "source": [
    "users = ['Bob', 'Sally', 'John', 'Joe', 'Mike']\n",
    "\n",
    "new_users = ['Sue', 'Bobbie', 'John', 'Jane', 'Joe']\n",
    "\n",
    "if new_users:\n",
    " for new_user in new_users:\n",
    "    if new_user in users:\n",
    "        new_user = input (\"User already exists, pick new name:\")\n",
    "    users.append(new_user)\n",
    "\n",
    "print(users)"
   ]
  },
  {
   "cell_type": "code",
   "execution_count": null,
   "metadata": {},
   "outputs": [],
   "source": []
  }
 ]
}