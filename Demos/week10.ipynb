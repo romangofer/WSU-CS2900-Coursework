{
 "metadata": {
  "language_info": {
   "codemirror_mode": {
    "name": "ipython",
    "version": 3
   },
   "file_extension": ".py",
   "mimetype": "text/x-python",
   "name": "python",
   "nbconvert_exporter": "python",
   "pygments_lexer": "ipython3",
   "version": "3.8.3"
  },
  "orig_nbformat": 4,
  "kernelspec": {
   "name": "python3",
   "display_name": "Python 3.8.3 64-bit ('base': conda)"
  },
  "interpreter": {
   "hash": "b3ba2566441a7c06988d0923437866b63cedc61552a5af99d1f4fb67d367b25f"
  }
 },
 "nbformat": 4,
 "nbformat_minor": 2,
 "cells": [
  {
   "cell_type": "code",
   "execution_count": 18,
   "metadata": {},
   "outputs": [],
   "source": [
    "import pandas as pd \n",
    "import numpy as np "
   ]
  },
  {
   "cell_type": "code",
   "execution_count": 19,
   "metadata": {},
   "outputs": [
    {
     "output_type": "stream",
     "name": "stdout",
     "text": [
      "   index      company   body-style  wheel-base  length engine-type  \\\n0      0  alfa-romero  convertible        88.6   168.8        dohc   \n1      1  alfa-romero  convertible        88.6   168.8        dohc   \n2      2  alfa-romero    hatchback        94.5   171.2        ohcv   \n3      3         audi        sedan        99.8   176.6         ohc   \n4      4         audi        sedan        99.4   176.6         ohc   \n\n  num-of-cylinders  horsepower  average-mileage    price  \n0             four         111               21  13495.0  \n1             four         111               21  16500.0  \n2              six         154               19  16500.0  \n3             four         102               24  13950.0  \n4             five         115               18  17450.0  \n"
     ]
    }
   ],
   "source": [
    "# pandas exercises \n",
    "auto = pd.read_csv('Automobile_data.csv')\n",
    "print(auto.head(5))"
   ]
  },
  {
   "cell_type": "code",
   "execution_count": 20,
   "metadata": {},
   "outputs": [
    {
     "output_type": "stream",
     "name": "stdout",
     "text": [
      "   index      company   body-style  wheel-base  length engine-type  \\\n0      0  alfa-romero  convertible        88.6   168.8        dohc   \n1      1  alfa-romero  convertible        88.6   168.8        dohc   \n2      2  alfa-romero    hatchback        94.5   171.2        ohcv   \n3      3         audi        sedan        99.8   176.6         ohc   \n4      4         audi        sedan        99.4   176.6         ohc   \n\n  num-of-cylinders  horsepower  average-mileage    price  \n0             four         111               21  13495.0  \n1             four         111               21  16500.0  \n2              six         154               19  16500.0  \n3             four         102               24  13950.0  \n4             five         115               18  17450.0  \nindex                 int64\ncompany              object\nbody-style           object\nwheel-base          float64\nlength              float64\nengine-type          object\nnum-of-cylinders     object\nhorsepower            int64\naverage-mileage       int64\nprice               float64\ndtype: object\n"
     ]
    }
   ],
   "source": [
    "replace = auto.replace(\"?\", \"NaN\")\n",
    "print(auto.head(5))\n",
    "print(auto.dtypes)"
   ]
  },
  {
   "cell_type": "code",
   "execution_count": 21,
   "metadata": {},
   "outputs": [
    {
     "output_type": "error",
     "ename": "SyntaxError",
     "evalue": "closing parenthesis ')' does not match opening parenthesis '[' (<ipython-input-21-a951e5fccac7>, line 3)",
     "traceback": [
      "\u001b[1;36m  File \u001b[1;32m\"<ipython-input-21-a951e5fccac7>\"\u001b[1;36m, line \u001b[1;32m3\u001b[0m\n\u001b[1;33m    print(auto.loc[auto['price']==max_price, )\u001b[0m\n\u001b[1;37m                                             ^\u001b[0m\n\u001b[1;31mSyntaxError\u001b[0m\u001b[1;31m:\u001b[0m closing parenthesis ')' does not match opening parenthesis '['\n"
     ]
    }
   ],
   "source": [
    "max_price = auto['price'].max()\n",
    "#print(auto.loc[auto['price']])\n",
    "print(auto.loc[auto['price']==max_price, )"
   ]
  },
  {
   "cell_type": "code",
   "execution_count": null,
   "metadata": {},
   "outputs": [],
   "source": [
    "ser1 = pd.Series(['A', 'B', 'C'], index =[1, 2, 3])\n",
    "ser2 = pd.Series(['D', 'E', 'F'], index = [4, 5, 6])\n",
    "pd.concat([ser1, ser2])\n",
    "\n",
    "df1 = pd.DataFrame({'A': 1, 'B'})"
   ]
  },
  {
   "cell_type": "code",
   "execution_count": 7,
   "metadata": {},
   "outputs": [
    {
     "output_type": "stream",
     "name": "stdout",
     "text": [
      "  employee        group\n0      Bob   Accounting\n1     Jake  Engineering\n2     Lisa  Engineering\n3      Sue           HR\n  employee  hire_date\n0     Lisa       2004\n1      Bob       2008\n2     Jake       2012\n3      Sue       2014\n  employee        group  hire_date\n0      Bob   Accounting       2008\n1     Jake  Engineering       2012\n2     Lisa  Engineering       2004\n3      Sue           HR       2014\n"
     ]
    }
   ],
   "source": [
    "# join and merge\n",
    "df1 = pd.DataFrame({'employee': ['Bob', 'Jake', 'Lisa', 'Sue'],\n",
    "                    'group': ['Accounting', 'Engineering', 'Engineering', 'HR']})\n",
    "df2 = pd.DataFrame({'employee': ['Lisa', 'Bob', 'Jake', 'Sue'],\n",
    "                    'hire_date': [2004, 2008, 2012, 2014]})\n",
    "df3 = df1.merge(df2)\n",
    "print(df1)\n",
    "print(df2)\n",
    "\n",
    "print(df1.merge(df2))"
   ]
  },
  {
   "cell_type": "code",
   "execution_count": 9,
   "metadata": {},
   "outputs": [
    {
     "output_type": "stream",
     "name": "stdout",
     "text": [
      "         group supervisor\n0   Accounting      Carly\n1  Engineering      Guido\n2           HR      Steve\n"
     ]
    },
    {
     "output_type": "error",
     "ename": "NameError",
     "evalue": "name 'df3' is not defined",
     "traceback": [
      "\u001b[1;31m---------------------------------------------------------------------------\u001b[0m",
      "\u001b[1;31mNameError\u001b[0m                                 Traceback (most recent call last)",
      "\u001b[1;32m<ipython-input-9-cc8fa2692174>\u001b[0m in \u001b[0;36m<module>\u001b[1;34m\u001b[0m\n\u001b[0;32m      3\u001b[0m \u001b[1;33m\u001b[0m\u001b[0m\n\u001b[0;32m      4\u001b[0m \u001b[0mprint\u001b[0m\u001b[1;33m(\u001b[0m\u001b[0mdf4\u001b[0m\u001b[1;33m)\u001b[0m\u001b[1;33m\u001b[0m\u001b[1;33m\u001b[0m\u001b[0m\n\u001b[1;32m----> 5\u001b[1;33m \u001b[0mprint\u001b[0m\u001b[1;33m(\u001b[0m\u001b[0mdf3\u001b[0m\u001b[1;33m.\u001b[0m\u001b[0mmerge\u001b[0m\u001b[1;33m(\u001b[0m\u001b[0mdf4\u001b[0m\u001b[1;33m)\u001b[0m\u001b[1;33m)\u001b[0m\u001b[1;33m\u001b[0m\u001b[1;33m\u001b[0m\u001b[0m\n\u001b[0m",
      "\u001b[1;31mNameError\u001b[0m: name 'df3' is not defined"
     ]
    }
   ],
   "source": [
    "df4 = pd.DataFrame({'group': ['Accounting', 'Engineering', 'HR'],\n",
    "                    'supervisor': ['Carly', 'Guido', 'Steve']})\n",
    "\n",
    "\n",
    "print(df4)\n",
    "print(df3.merge(df4))"
   ]
  },
  {
   "cell_type": "code",
   "execution_count": 22,
   "metadata": {},
   "outputs": [
    {
     "output_type": "stream",
     "name": "stdout",
     "text": [
      "         group        skills\n0   Accounting          math\n1   Accounting  spreadsheets\n2  Engineering        coding\n3  Engineering         linux\n4           HR  spreadsheets\n5           HR  organization\n"
     ]
    },
    {
     "output_type": "error",
     "ename": "NameError",
     "evalue": "name 'df5' is not defined",
     "traceback": [
      "\u001b[1;31m---------------------------------------------------------------------------\u001b[0m",
      "\u001b[1;31mNameError\u001b[0m                                 Traceback (most recent call last)",
      "\u001b[1;32m<ipython-input-22-7e67d285f5ec>\u001b[0m in \u001b[0;36m<module>\u001b[1;34m\u001b[0m\n\u001b[0;32m      5\u001b[0m \u001b[1;33m\u001b[0m\u001b[0m\n\u001b[0;32m      6\u001b[0m \u001b[0mprint\u001b[0m\u001b[1;33m(\u001b[0m\u001b[0mdf6\u001b[0m\u001b[1;33m)\u001b[0m\u001b[1;33m\u001b[0m\u001b[1;33m\u001b[0m\u001b[0m\n\u001b[1;32m----> 7\u001b[1;33m \u001b[0mprint\u001b[0m\u001b[1;33m(\u001b[0m\u001b[0mdf5\u001b[0m\u001b[1;33m.\u001b[0m\u001b[0mmerge\u001b[0m\u001b[1;33m(\u001b[0m\u001b[0mdf6\u001b[0m\u001b[1;33m)\u001b[0m\u001b[1;33m)\u001b[0m\u001b[1;33m\u001b[0m\u001b[1;33m\u001b[0m\u001b[0m\n\u001b[0m",
      "\u001b[1;31mNameError\u001b[0m: name 'df5' is not defined"
     ]
    }
   ],
   "source": [
    "df6 = pd.DataFrame({'group': ['Accounting', 'Accounting',\n",
    "                              'Engineering', 'Engineering', 'HR', 'HR'],\n",
    "                    'skills': ['math', 'spreadsheets', 'coding', 'linux',\n",
    "                               'spreadsheets', 'organization']})\n",
    "\n",
    "print(df6)\n",
    "print(df5.merge(df6))"
   ]
  },
  {
   "cell_type": "code",
   "execution_count": null,
   "metadata": {},
   "outputs": [],
   "source": [
    "# Exercise 9\n",
    "\n",
    "GermanCars = {'Company': ['Ford', 'Mercedes', 'BMV', 'Audi'], 'Price': [23845, 171995, 135925 , 71400]}\n",
    "japaneseCars = {'Company': ['Toyota', 'Honda', 'Nissan', 'Mitsubishi '], 'Price': [29995, 23600, 61500 , 58900]}\n",
    "\n",
    "germany = pd.DataFrame.from_dict(GermanCars)\n",
    "japan = pd.DataFrame.from_dict(japanesecars)\n",
    "print(germany)\n",
    "print(japan)\n",
    "\n",
    "both = pd.concat([germany, japan])"
   ]
  },
  {
   "cell_type": "code",
   "execution_count": null,
   "metadata": {},
   "outputs": [],
   "source": [
    "Car_Price = {'Company': ['Toyota', 'Honda', 'BMV', 'Audi'], 'Price': [23845, 17995, 135925 , 71400]}\n",
    "car_Horsepower = {'Company': ['Toyota', 'Honda', 'BMV', 'Audi'], 'horsepower': [141, 80, 182 , 160]}"
   ]
  }
 ]
}