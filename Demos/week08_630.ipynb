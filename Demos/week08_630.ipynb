{
 "metadata": {
  "language_info": {
   "codemirror_mode": {
    "name": "ipython",
    "version": 3
   },
   "file_extension": ".py",
   "mimetype": "text/x-python",
   "name": "python",
   "nbconvert_exporter": "python",
   "pygments_lexer": "ipython3",
   "version": "3.8.3"
  },
  "orig_nbformat": 4,
  "kernelspec": {
   "name": "python3",
   "display_name": "Python 3.8.3 64-bit ('base': conda)"
  },
  "interpreter": {
   "hash": "b3ba2566441a7c06988d0923437866b63cedc61552a5af99d1f4fb67d367b25f"
  }
 },
 "nbformat": 4,
 "nbformat_minor": 2,
 "cells": [
  {
   "cell_type": "code",
   "execution_count": null,
   "metadata": {},
   "outputs": [],
   "source": [
    "# create array of days of the year.  arange will just go in order, 0 - 365\n",
    "days = np.arange(365)\n",
    "#print(days)\n",
    "# this gets a mask of summer days (true / false results based on condition)\n",
    "#   172 = start of summer.  262 = end of summer\n",
    "summer = (days > 172) & (days < 262)\n",
    "#print(summer)\n",
    "# proving mask gets just summer values, by using summer as indices to get precipitation values\n",
    "#precip_inches[summer].size\n",
    "#precip_inches[summer]\n",
    "\n",
    "# creating array of only rainy day values (precipitation greater than 0)\n",
    "rainy_day_index = precip_inches[precip_inches > 0.0]\n",
    "#print(rainy_day_index)\n",
    "\n",
    "# creating mask of days with rain (true / false results based on condition)\n",
    "rainy_days = (precip_inches > 0.0)\n",
    "\n",
    "print(f\"Average rain for year: {np.mean(precip_inches)}\")\n",
    "print(f\"Median rain for year: {np.median(precip_inches)}\")\n",
    "\n",
    "print(f\"Average rainy day using resultant np array: {np.mean(rainy_day_index)}\")\n",
    "print(f\"Average rainy day using mask: {np.mean(precip_inches[rainy_days])}\")\n",
    "\n",
    "print(f\"Median rainy day using resultant np array: {np.median(rainy_day_index)}\")\n",
    "print(f\"Median rainy day using mask: {np.median(precip_inches[rainy_days])}\")\n",
    "\n",
    "print(f\"Average rain in summer: {np.mean(precip_inches[summer])}\")\n",
    "print(f\"Median rain in summer: {np.median(precip_inches[summer])}\")\n",
    "print(f\"Max rain on a summer day: {np.max(precip_inches[summer])}\")\n",
    "\n",
    "#print(f\"Average rainy days not in summer: {np.mean(precip_inches[(precip_inches > 0.0) & ~summer])}\")\n",
    "print(f\"Average rainy days not in summer: {np.mean(precip_inches[rainy_days & ~summer])}\")\n",
    "\n",
    "#print(f\"Median rainy days not in summer: {np.median(precip_inches[(precip_inches > 0.0) & ~summer])}\")\n",
    "print(f\"Median rainy days not in summer: {np.median(precip_inches[rainy_days & ~summer])}\")"
   ]
  },
  {
   "cell_type": "code",
   "execution_count": 9,
   "metadata": {},
   "outputs": [
    {
     "output_type": "stream",
     "name": "stdout",
     "text": [
      "[0 0 0 0]\n[('', 0, 0.) ('', 0, 0.) ('', 0, 0.) ('', 0, 0.)]\n[('name', '<U10'), ('age', '<i4'), ('weight', '<f8')]\n[('Alice', 0, 0.) ('Bob', 0, 0.) ('Cathy', 0, 0.) ('Doug', 0, 0.)]\n[('Alice', 25, 55. ) ('Bob', 45, 85.5) ('Cathy', 37, 68. )\n ('Doug', 19, 61.5)]\n['Alice' 'Bob' 'Cathy' 'Doug']\n('Alice', 25, 55.)\n[ True False False  True]\n[('Alice', 25, 55. ) ('Doug', 19, 61.5)]\n"
     ]
    },
    {
     "output_type": "execute_result",
     "data": {
      "text/plain": [
       "array(['Alice', 'Doug'], dtype='<U10')"
      ]
     },
     "metadata": {},
     "execution_count": 9
    }
   ],
   "source": [
    "import numpy as np \n",
    "\n",
    "name = ['Alice', 'Bob', 'Cathy', 'Doug']\n",
    "age = [25, 45, 37, 19]\n",
    "weight = [55.0, 85.5, 68.0, 61.5]\n",
    "\n",
    "x = np.zeros(4, dtype=int)\n",
    "print(x)\n",
    "\n",
    "data = np.zeros(4, dtype={\n",
    "    'names':('name', 'age', 'weight'),\n",
    "    'formats':('U10', 'i4', 'f8')\n",
    "    }\n",
    "    )\n",
    "print(data)\n",
    "print(data.dtype)\n",
    "\n",
    "data['name'] = name\n",
    "print(data)\n",
    "data['age'] = age\n",
    "data['weight'] = weight\n",
    "print(data)\n",
    "\n",
    "print(data['name'])\n",
    "print(data[0])\n",
    "\n",
    "print(data['age'] < 30)\n",
    "print(data[(data['age'] < 30)])\n",
    "\n",
    "data[data['age'] < 30]['name']"
   ]
  },
  {
   "cell_type": "code",
   "execution_count": 30,
   "metadata": {},
   "outputs": [
    {
     "output_type": "stream",
     "name": "stdout",
     "text": [
      "bob     23\ndave    87\ndtype: int64\nbob      23\napple    32\ndtype: int64\n"
     ]
    }
   ],
   "source": [
    "import pandas as pd \n",
    "data = pd.Series([23, 45, 87, 32], index = ['bob', 'carrie', 'dave', 'apple'])\n",
    "\n",
    "#print(data)\n",
    "#print(data[0])\n",
    "#print(data['bob'])\n",
    "\n",
    "print(data[(data > 80) | (data < 30)])\n",
    "print(data[['bob', 'apple']])"
   ]
  },
  {
   "cell_type": "code",
   "execution_count": 36,
   "metadata": {},
   "outputs": [
    {
     "output_type": "stream",
     "name": "stdout",
     "text": [
      "Index(['California', 'Texas', 'New York', 'Florida', 'Illinois'], dtype='object')\nIndex(['California', 'Texas', 'New York', 'Florida', 'Illinois'], dtype='object')\n[38332521 26448193 19651127 19552860 12882135]\nCalifornia    38332521\nTexas         26448193\nNew York      19651127\nFlorida       19552860\nIllinois      12882135\ndtype: int64\nOhio            NaN\nTexas    26448193.0\ndtype: float64\nIndex(['Ohio', 'Texas'], dtype='object')\nCalifornia    38332521\nTexas         26448193\nNew York      19651127\nFlorida       19552860\ndtype: int64\nCalifornia    38332521\nTexas         26448193\nNew York      19651127\ndtype: int64\n"
     ]
    }
   ],
   "source": [
    "population_dict = {'California': 38332521,\n",
    "                    'Texas': 26448193,\n",
    "                    'New York': 19651127,\n",
    "                    'Florida': 19552860,\n",
    "                    'Illinois': 12882135}\n",
    "data = pd.Series(population_dict)\n",
    "\n",
    "print(data.index)\n",
    "print(data.keys())\n",
    "print(data.values)\n",
    "\n",
    "print(data)\n",
    "\n",
    "population = pd.Series(population_dict, index=['Ohio', 'Texas'])\n",
    "\n",
    "print(population)\n",
    "print(population.index)\n",
    "print(data['California':'Florida'])\n",
    "print(data[0:3])"
   ]
  },
  {
   "cell_type": "code",
   "execution_count": 37,
   "metadata": {},
   "outputs": [
    {
     "output_type": "stream",
     "name": "stdout",
     "text": [
      "            population    area     density\nCalifornia  38332521.0  423967   90.413926\nFlorida     19552860.0  170312  114.806121\nIllinois    12882135.0  149995   85.883763\nNew York    19651127.0  141297  139.076746\nOhio               NaN  999999         NaN\nTexas       26448193.0  695662   38.018740\n"
     ]
    }
   ],
   "source": [
    "area_dict = {'California': 423967, 'Texas': 695662, 'New York': 141297,\n",
    "             'Florida': 170312, 'Illinois': 149995, 'Ohio': 999999}\n",
    "area = pd.Series(area_dict)\n",
    "\n",
    "#print(area)\n",
    "#print(data)\n",
    "\n",
    "states = pd.DataFrame({'population': data, 'area': area})\n",
    "#print(states)\n",
    "\n",
    "#print(states.index)\n",
    "#print(states.columns)\n",
    "\n",
    "#print(states['population'])\n",
    "#print(states.population)\n",
    "\n",
    "states['density'] = states['population'] / states['area']\n",
    "\n",
    "print(states)"
   ]
  },
  {
   "cell_type": "code",
   "execution_count": 45,
   "metadata": {},
   "outputs": [
    {
     "output_type": "stream",
     "name": "stdout",
     "text": [
      "            population    area     density\nCalifornia  38332521.0  423967   90.413926\nFlorida     19552860.0  170312  114.806121\nIllinois    12882135.0  149995   85.883763\nNew York    19651127.0  141297  139.076746\nOhio               NaN  999999         NaN\nTexas       26448193.0  695662   38.018740\n90.41392608386974\n90.41392608386974\n            population    area\nCalifornia  38332521.0  423967\nFlorida     19552860.0  170312\nIllinois    12882135.0  149995\nNew York    19651127.0  141297\nOhio               NaN  999999\nTexas       26448193.0  695662\n          population     density\nFlorida   19552860.0  114.806121\nNew York  19651127.0  139.076746\n          population     density\nFlorida   19552860.0  114.806121\nNew York  19651127.0  139.076746\n"
     ]
    }
   ],
   "source": [
    "print(states)\n",
    "\n",
    "#print(states.values)\n",
    "\n",
    "print(states.loc['California', 'density'])\n",
    "print(states.iloc[0,2])\n",
    "# print(states[0,2]) this is a nope\n",
    "#print(states.ix['California', 2])\n",
    "print(states.loc[:, 'population': 'area'])\n",
    "\n",
    "over_onehund = (states[states['density'] > 100])\n",
    "print(over_onehund[['population', 'density']])\n",
    "\n",
    "print(states.loc[states['density'] > 100, ['population', 'density']])"
   ]
  },
  {
   "cell_type": "code",
   "execution_count": 26,
   "metadata": {},
   "outputs": [
    {
     "output_type": "stream",
     "name": "stdout",
     "text": [
      "       age  weight\nAlice   25    55.0\nBob     45    85.5\nCathy   37    68.0\nDoug    19    61.5\n"
     ]
    }
   ],
   "source": [
    "name = ['Alice', 'Bob', 'Cathy', 'Doug']\n",
    "age = [25, 45, 37, 19]\n",
    "weight = [55.0, 85.5, 68.0, 61.5]\n",
    "\n",
    "ages = pd.Series(age, index=name)\n",
    "weights = pd.Series(weight, index=name)\n",
    "\n",
    "#print(ages)\n",
    "#print(weights)\n",
    "\n",
    "info = pd.DataFrame({'age': ages, 'weight': weights})\n",
    "\n",
    "print(info)"
   ]
  },
  {
   "cell_type": "code",
   "execution_count": 5,
   "metadata": {},
   "outputs": [
    {
     "output_type": "stream",
     "name": "stdout",
     "text": [
      "[0 0 0 0]\n[('', 0, 0.) ('', 0, 0.) ('', 0, 0.) ('', 0, 0.)]\n[('name', '<U10'), ('age', '<i4'), ('weight', '<f8')]\n[('Alice', 25, 55. ) ('Bob', 45, 85.5) ('Cathy', 37, 68. )\n ('Doug', 19, 61.5)]\n['Alice' 'Bob' 'Cathy' 'Doug']\n('Alice', 25, 55.)\n[ True False False  True]\n[('Alice', 25, 55. ) ('Doug', 19, 61.5)]\n"
     ]
    },
    {
     "output_type": "execute_result",
     "data": {
      "text/plain": [
       "array(['Alice', 'Doug'], dtype='<U10')"
      ]
     },
     "metadata": {},
     "execution_count": 5
    }
   ],
   "source": [
    "import numpy as np\n",
    "name = ['Alice', 'Bob', 'Cathy', 'Doug']\n",
    "age = [25, 45, 37, 19]\n",
    "weight = [55.0, 85.5, 68.0, 61.5]\n",
    "\n",
    "x = np.zeros(4, dtype = int)\n",
    "print(x)\n",
    "\n",
    "data = np.zeros(4, dtype={'names':('name', 'age', 'weight'),\n",
    "                          'formats':('U10', 'i4', 'f8')})\n",
    "print(data)\n",
    "print(data.dtype)\n",
    "\n",
    "data['name'] = name\n",
    "\n",
    "data['age'] = age\n",
    "data['weight'] = weight\n",
    "print(data)\n",
    "\n",
    "print(data['name'])\n",
    "print(data[0])\n",
    "\n",
    "print(data['age'] < 30)\n",
    "\n",
    "print(data[(data['age'] < 30)])\n",
    "\n",
    "data[data['age']< 30]['name']\n"
   ]
  },
  {
   "cell_type": "code",
   "execution_count": 9,
   "metadata": {},
   "outputs": [
    {
     "output_type": "stream",
     "name": "stdout",
     "text": [
      "bob       23\ncarrie    45\ndave      87\napple     32\ndtype: int64\n23\n23\n"
     ]
    }
   ],
   "source": [
    "import pandas as pd \n",
    "\n",
    "data = pd.Series([23, 45, 87, 32], index = ['bob', 'carrie', 'dave', 'apple'])\n",
    "\n",
    "print(data)\n",
    "print(data[0])\n",
    "print(data['bob'])"
   ]
  },
  {
   "cell_type": "code",
   "execution_count": 13,
   "metadata": {},
   "outputs": [
    {
     "output_type": "stream",
     "name": "stdout",
     "text": [
      "Index(['California', 'Texas', 'New York', 'Florida', 'Illinois'], dtype='object')\nIndex(['California', 'Texas', 'New York', 'Florida', 'Illinois'], dtype='object')\n[38332521 26448193 19651127 19552860 12882135]\nCalifornia    38332521\nTexas         26448193\nNew York      19651127\nFlorida       19552860\nIllinois      12882135\ndtype: int64\nOhio            NaN\nTexas    26448193.0\ndtype: float64\nIndex(['Ohio', 'Texas'], dtype='object')\n38332521\nCalifornia    38332521\nTexas         26448193\nNew York      19651127\ndtype: int64\n"
     ]
    }
   ],
   "source": [
    "population_dict = {'California': 38332521,\n",
    "                    'Texas': 26448193,\n",
    "                    'New York': 19651127,\n",
    "                    'Florida': 19552860,\n",
    "                    'Illinois': 12882135}\n",
    "\n",
    "data = pd.Series(population_dict)\n",
    "\n",
    "print(data.index)\n",
    "print(data.keys())\n",
    "print(data.values)\n",
    "\n",
    "print(data)\n",
    "\n",
    "population = pd.Series(population_dict, index=['Ohio', 'Texas'])\n",
    "\n",
    "print(population)\n",
    "print(population.index)\n",
    "\n",
    "print(data['California'])\n",
    "print(data[0:3])"
   ]
  },
  {
   "cell_type": "code",
   "execution_count": 18,
   "metadata": {},
   "outputs": [
    {
     "output_type": "stream",
     "name": "stdout",
     "text": [
      "California    423967\nTexas         695662\nNew York      141297\nFlorida       170312\nIllinois      149995\nOhio          999999\ndtype: int64\nCalifornia    38332521\nTexas         26448193\nNew York      19651127\nFlorida       19552860\nIllinois      12882135\ndtype: int64\n            population    area\nCalifornia  38332521.0  423967\nFlorida     19552860.0  170312\nIllinois    12882135.0  149995\nNew York    19651127.0  141297\nOhio               NaN  999999\nTexas       26448193.0  695662\n            population    area\nCalifornia  38332521.0  423967\nFlorida     19552860.0  170312\nIllinois    12882135.0  149995\nNew York    19651127.0  141297\nOhio               NaN  999999\nTexas       26448193.0  695662\n"
     ]
    }
   ],
   "source": [
    "area_dict = {'California': 423967, 'Texas': 695662, 'New York': 141297,\n",
    "             'Florida': 170312, 'Illinois': 149995, 'Ohio': 999999}\n",
    "area = pd.Series(area_dict)\n",
    "\n",
    "print(area)\n",
    "print(data)\n",
    "\n",
    "states = pd.DataFrame({'population': data, 'area': area})\n",
    "print(states)\n",
    "\n",
    "#print(states.index)\n",
    "#print(states.columns)\n",
    "\n",
    "print(states['New York':])"
   ]
  },
  {
   "cell_type": "code",
   "execution_count": 19,
   "metadata": {},
   "outputs": [
    {
     "output_type": "stream",
     "name": "stdout",
     "text": [
      "            population    area\nCalifornia  38332521.0  423967\nFlorida     19552860.0  170312\nIllinois    12882135.0  149995\nNew York    19651127.0  141297\nOhio               NaN  999999\nTexas       26448193.0  695662\n[[38332521.   423967.]\n [19552860.   170312.]\n [12882135.   149995.]\n [19651127.   141297.]\n [      nan   999999.]\n [26448193.   695662.]]\n"
     ]
    }
   ],
   "source": [
    "print(states)\n",
    "\n",
    "#print(states.values)\n",
    "\n",
    "print(states.loc['California', 'density'])\n",
    "print(states.iloc[0, 2])\n",
    "# print(states[0,2]) this is a nope\n",
    "# print(states.ix['California', 2])\n",
    "print(states.loc[:, 'population':'area'])\n",
    "\n",
    "over_onehund = (states[states['density'] > 100])\n",
    "print(over_onehund[['population', 'density']])\n",
    "\n",
    "print()"
   ]
  },
  {
   "cell_type": "code",
   "execution_count": 23,
   "metadata": {},
   "outputs": [
    {
     "output_type": "stream",
     "name": "stdout",
     "text": [
      "Alice    25\nBob      45\nCathy    37\nDoug     19\ndtype: int64\nAlice    55.0\nBob      85.5\nCathy    68.0\nDoug     61.5\ndtype: float64\n"
     ]
    }
   ],
   "source": [
    "name = ['Alice', 'Bob', 'Cathy', 'Doug']\n",
    "\n",
    "age = [25, 45, 37, 19]\n",
    "\n",
    "weight = [55.0, 85.5, 68.0, 61.5]\n",
    "\n",
    "ages = pd.Series(age, index=name)\n",
    "weights = pd.Series(weight, index=name)\n",
    "\n",
    "#print(ages)\n",
    "#print(weights)"
   ]
  },
  {
   "cell_type": "code",
   "execution_count": null,
   "metadata": {},
   "outputs": [],
   "source": [
    "import pandas as pd \n",
    "\n",
    "df_single_level_cols = pd.DataFrame([[0, 1], [2, 3]],\n",
    "                                    index )"
   ]
  }
 ]
}