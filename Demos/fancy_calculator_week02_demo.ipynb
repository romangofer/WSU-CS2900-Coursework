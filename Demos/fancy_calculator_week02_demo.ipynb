{
 "metadata": {
  "language_info": {
   "codemirror_mode": {
    "name": "ipython",
    "version": 3
   },
   "file_extension": ".py",
   "mimetype": "text/x-python",
   "name": "python",
   "nbconvert_exporter": "python",
   "pygments_lexer": "ipython3",
   "version": "3.8.3"
  },
  "orig_nbformat": 2,
  "kernelspec": {
   "name": "python383jvsc74a57bd0b3ba2566441a7c06988d0923437866b63cedc61552a5af99d1f4fb67d367b25f",
   "display_name": "Python 3.8.3 64-bit ('base': conda)"
  }
 },
 "nbformat": 4,
 "nbformat_minor": 2,
 "cells": [
  {
   "cell_type": "code",
   "execution_count": 1,
   "metadata": {},
   "outputs": [
    {
     "output_type": "stream",
     "name": "stdout",
     "text": [
      "Adding numbers 14\nThe two numbers subtracted are: 4\nThe product of these numbers is: 45\nThe numbers divided are: 0.5555555555555556\n"
     ]
    }
   ],
   "source": [
    "# Calculator Activity\n",
    "\n",
    "num1=5\n",
    "num2=9\n",
    "\n",
    "print(f\"Adding numbers {num1 + num2}\")\n",
    "\n",
    "subtract = 9 - 5\n",
    "\n",
    "print(f\"The two numbers subtracted are: {subtract}\")\n",
    "\n",
    "multiply = 5 * 9\n",
    "\n",
    "print(f\"The product of these numbers is: {multiply}\")\n",
    "\n",
    "divide = num1/num2\n",
    "\n",
    "print(f\"The numbers divided are: {divide}\")"
   ]
  },
  {
   "cell_type": "code",
   "execution_count": 9,
   "metadata": {},
   "outputs": [
    {
     "output_type": "stream",
     "name": "stdout",
     "text": [
      "3\n6\n9\n12\n15\n18\n21\n24\n27\n30\n[3, 6, 9, 12, 15, 18, 21, 24, 27, 30]\n[3, 6, 9, 12, 15, 18, 21, 24, 27, 30]\n"
     ]
    }
   ],
   "source": [
    "# Exercise: Multiples of Three\n",
    "\n",
    "threes = []\n",
    "for num in range(3,31,3):\n",
    "    print(num)\n",
    "    threes.append(num)\n",
    "print(threes)\n",
    "\n",
    "simple_threes = list(range(3,31,3))\n",
    "print(simple_threes)"
   ]
  },
  {
   "cell_type": "code",
   "execution_count": null,
   "metadata": {},
   "outputs": [],
   "source": []
  }
 ]
}