df2 = pd.read_csv("https://raw.githubusercontent.com/jakevdp/data-USstates/master/state-abbrevs.csv")
df1 = pd.read_csv("https://raw.githubusercontent.com/jakevdp/data-USstates/master/state-population.csv")

result = pd.concat([df2, df1], sort = False)
#print(df1)
#print(df2)
new = pd.merge(df1, df2, left_on='state/region', right_on="abbreviation", how = 'outer').drop('abbreviation', axis=1)


print(new)