{
 "metadata": {
  "language_info": {
   "codemirror_mode": {
    "name": "ipython",
    "version": 3
   },
   "file_extension": ".py",
   "mimetype": "text/x-python",
   "name": "python",
   "nbconvert_exporter": "python",
   "pygments_lexer": "ipython3",
   "version": "3.8.3"
  },
  "orig_nbformat": 2,
  "kernelspec": {
   "name": "python383jvsc74a57bd0b3ba2566441a7c06988d0923437866b63cedc61552a5af99d1f4fb67d367b25f",
   "display_name": "Python 3.8.3 64-bit ('base': conda)"
  }
 },
 "nbformat": 4,
 "nbformat_minor": 2,
 "cells": [
  {
   "source": [
    "# Week 03"
   ],
   "cell_type": "markdown",
   "metadata": {}
  },
  {
   "cell_type": "code",
   "execution_count": 2,
   "metadata": {},
   "outputs": [
    {
     "output_type": "stream",
     "name": "stdout",
     "text": [
      "42\n{'kayleigh': 42, 'sarah': 53, 'ben': 4}\nSam is not in list\n"
     ]
    }
   ],
   "source": [
    "#fav_nums = {'kayleigh':[42,76,84], 'sarah':53, 'ben': 4}\n",
    "fav_nums = {\n",
    "    'kayleigh':42,\n",
    "    'sarah':53,\n",
    "    'ben':4}\n",
    "print(fav_nums['kayleigh'])\n",
    "#fav_nums['kayleigh']=90\n",
    "print(fav_nums)\n",
    "\n",
    "# get the error\n",
    "# fav_nums['sam']\n",
    "\n",
    "sam_num=fav_nums.get('sam', \"Sam is not in list\")\n",
    "print(sam_num)"
   ]
  },
  {
   "cell_type": "code",
   "execution_count": null,
   "metadata": {},
   "outputs": [],
   "source": [
    "for key, value in fav_nums.items():\n",
    "    print(f\"Name: {key.title()}\")\n",
    "    print(f)\n",
    "fav_nums = {'kayleigh':[42,76,84], 'sarah':53, 'ben': 4}\n"
   ]
  },
  {
   "cell_type": "code",
   "execution_count": 6,
   "metadata": {},
   "outputs": [
    {
     "output_type": "stream",
     "name": "stdout",
     "text": [
      "dict_keys(['kayleigh', 'sarah', 'ben'])\nGeorge is not in dictionary\nGeorge does not exist in dictionary\n42\nSam does not exist in dictionary\n4\n42\nGeorge does not exist in dictionary\n42\nSam does not exist in dictionary\n4\nSam is not in dictionary\nGeorge does not exist in dictionary\n42\nSam does not exist in dictionary\n4\n4\nGeorge does not exist in dictionary\n42\nSam does not exist in dictionary\n4\n"
     ]
    }
   ],
   "source": [
    "people = ['george', 'kayleigh', 'sam', 'ben']\n",
    "fav_nums_keys = fav_nums.keys()\n",
    "print(fav_nums_keys)\n",
    "\n",
    "for person in people:\n",
    "    if person in fav_nums.keys():\n",
    "        #use .get and send person instead?\n",
    "        # print(\"Cool!\")\n",
    "        print(fav_nums[person])\n",
    "    else:\n",
    "        print(f\"{person.title()} is not in dictionary\")\n",
    "    for person in people:\n",
    "        nums=fav_nums.get(person, f\"{person.title()} does not exist in dictionary\")\n",
    "        print(nums)"
   ]
  },
  {
   "cell_type": "code",
   "execution_count": 7,
   "metadata": {},
   "outputs": [
    {
     "output_type": "stream",
     "name": "stdout",
     "text": [
      "I am Good too\n"
     ]
    }
   ],
   "source": [
    "message = input(\"How are you?\")\n",
    "print(f\"I am {message} too\")"
   ]
  },
  {
   "cell_type": "code",
   "execution_count": 115,
   "metadata": {},
   "outputs": [],
   "source": [
    "# quit it\n",
    "user_input = \"not quitting\"\n",
    "#user_input = input(\"Give me\")"
   ]
  },
  {
   "cell_type": "code",
   "execution_count": 14,
   "metadata": {},
   "outputs": [
    {
     "output_type": "stream",
     "name": "stdout",
     "text": [
      "[]\n['play with python', 'walk dog', 'feed dog', 'write e-mail']\n"
     ]
    }
   ],
   "source": [
    "todos = [\"write e-mail\", \"feed dog\", \"walk dog\", \"play with python\"]\n",
    "dones = []\n",
    "\n",
    "while todos:\n",
    "    dones.append(todos.pop())\n",
    "    #task = todos.pop\n",
    "    # print(task)\n",
    "    #dones.append(task)\n",
    "\n",
    "print(todos)\n",
    "print(dones)"
   ]
  },
  {
   "cell_type": "code",
   "execution_count": null,
   "metadata": {},
   "outputs": [],
   "source": [
    "todos=[\"write email\", \"feed dog\",]"
   ]
  },
  {
   "cell_type": "code",
   "execution_count": 3,
   "metadata": {},
   "outputs": [
    {
     "output_type": "stream",
     "name": "stdout",
     "text": [
      "hello world!\n"
     ]
    }
   ],
   "source": [
    "# import random\n",
    "#  functions\n",
    "def my_func():\n",
    "    \"\"\"This function will print hello world\"\"\"\n",
    "    print(\"hello world!\")\n",
    "\n",
    "my_func()\n",
    "\n",
    "# this works because jupyter notebooks are a hybrid of writing code in a .py file and an interactive shell \n",
    "# do NOT assume this will work in a .py file\n",
    "#my_func?\n",
    "message=\"hello!\"\n",
    "#message?\n",
    "# show docstring if it exists\n",
    "# my_func??\n",
    "#sum?\n",
    "# show function source code \n",
    "# sum??"
   ]
  },
  {
   "cell_type": "code",
   "execution_count": 22,
   "metadata": {},
   "outputs": [
    {
     "output_type": "stream",
     "name": "stdout",
     "text": [
      "Hello user Zhason, your nahmbuhr: 5\nHello user 5, your nahmbuhr: Yayson\nHello user Zhason, your nahmbuhr: 5\nHello user Ben, your nahmbuhr: 42\nHello user SOB, your nahmbuhr: 89\n('Hello user SOB, your number is: 89', 67, 89)\n"
     ]
    }
   ],
   "source": [
    "def greet_user(username, num=42, sec_num=''):\n",
    "    \"\"\" This function greets a user \"\"\"\n",
    "    print(f\"Hello user {username}, your nahmbuhr: {num}\")\n",
    "    #return(\"finished\")\n",
    "    return(f\"Hello user {username}, your number is: {num}\", 67, 89)\n",
    "\n",
    "greet_user(\"Zhason\", 5)\n",
    "greet_user(5, \"Yayson\")\n",
    "greet_user(num =5, username = \"Zhason\")\n",
    "greet_user(\"Ben\")\n",
    "message = greet_user(\"SOB\", 89, 42)\n",
    "print(message)"
   ]
  },
  {
   "cell_type": "code",
   "execution_count": 25,
   "metadata": {},
   "outputs": [
    {
     "output_type": "stream",
     "name": "stdout",
     "text": [
      "List inside function: [5, 3, 92, 5, 2, 9]\nOriginal list outside function: [5, 3, 9, 5, 2, 9]\n"
     ]
    }
   ],
   "source": [
    "def values(list_nums):\n",
    "    list_nums[2] = 92\n",
    "    print(f\"List inside function: {list_nums}\")\n",
    "\n",
    "nums = [5,3, 9,5, 2, 9]\n",
    "values(nums[:])\n",
    "print(f\"Original list outside function: {nums}\")\n",
    "\n"
   ]
  },
  {
   "cell_type": "code",
   "execution_count": 26,
   "metadata": {},
   "outputs": [
    {
     "output_type": "stream",
     "name": "stdout",
     "text": [
      "('mushrooms', 'onions', 'pepp')\nmushrooms\nonions\npepp\n('cheese',)\ncheese\n"
     ]
    }
   ],
   "source": [
    "def pizza(*toppings):\n",
    "    print(toppings)\n",
    "    for topping in toppings:\n",
    "         print(f\"{topping}\")\n",
    "\n",
    "pizza ('mushrooms', 'onions', 'pepp')\n",
    "pizza ('cheese')"
   ]
  },
  {
   "cell_type": "code",
   "execution_count": null,
   "metadata": {},
   "outputs": [],
   "source": [
    "def build_profile(first, last, **kwargs):\n",
    "    print(f\"First name: {first.title()}\")\n",
    "    user_info['first'] = first\n",
    "    print(f\"Last name: {last.title()}\")\n",
    "    user_info['last'] = last\n",
    "    return (user_info)\n",
    "\n",
    "data = "
   ]
  },
  {
   "cell_type": "code",
   "execution_count": 109,
   "metadata": {},
   "outputs": [
    {
     "output_type": "stream",
     "name": "stdout",
     "text": [
      "Hello World!\n42\nSOB\n\nMeanie!\n"
     ]
    }
   ],
   "source": [
    "with open(\"input.txt\") as f:\n",
    "         contents = f.read()\n",
    "print(contents)\n",
    "with open (\"C:\\\\Users\\\\roman\\\\OneDrive\\\\Documents\\\\sob.txt\") as f:\n",
    "          contents_2 = f.read()\n",
    "print(contents_2)"
   ]
  },
  {
   "cell_type": "code",
   "execution_count": 97,
   "metadata": {},
   "outputs": [],
   "source": [
    "with open(\"output.txt\", 'a') as f:\n",
    "    f.write(\"It's raining\\n\")"
   ]
  },
  {
   "cell_type": "code",
   "execution_count": 1,
   "metadata": {},
   "outputs": [
    {
     "output_type": "stream",
     "name": "stdout",
     "text": [
      "SOB\n\nMeanie!\n"
     ]
    }
   ],
   "source": [
    "file=input(\"Input file name:\")\n",
    "try:\n",
    "    with open(file) as f:\n",
    "        contents=f.read()\n",
    "except FileNotFoundError:\n",
    "    print(\"File not found. Check your path and try again\")\n",
    "else:\n",
    "    print(contents)"
   ]
  },
  {
   "cell_type": "code",
   "execution_count": 78,
   "metadata": {},
   "outputs": [
    {
     "output_type": "stream",
     "name": "stdout",
     "text": [
      "First name: Albert\nLast name: Einstein\n{'location': 'Princeton', 'field': 'physics', 'first': 'albert', 'last': 'einstein'}\n"
     ]
    }
   ],
   "source": [
    "def build_profile(first, last, **user_info):\n",
    "    print(f\"First name: {first.title()}\")\n",
    "    user_info['first'] = first\n",
    "    print(f\"Last name: {last.title()}\")\n",
    "    user_info['last'] = last\n",
    "    return (user_info)\n",
    "\n",
    "data = build_profile(\"albert\",\"einstein\", location = 'Princeton', field = 'physics')\n",
    "print(data)\n"
   ]
  },
  {
   "cell_type": "code",
   "execution_count": null,
   "metadata": {},
   "outputs": [],
   "source": []
  }
 ]
}