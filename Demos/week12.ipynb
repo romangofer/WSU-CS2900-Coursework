{
 "cells": [
  {
   "cell_type": "code",
   "execution_count": 3,
   "source": [
    "# source code: https://realpython.com/python-web-scraping-practical-introduction/\r\n",
    "\r\n",
    "import re\r\n",
    "from urllib.request import urlopen\r\n",
    "\r\n",
    "url = \"http://olympus.realpython.org/profiles/dionysus\"\r\n",
    "page = urlopen(url)\r\n",
    "print(page)\r\n",
    "html = page.read().decode(\"utf-8\")\r\n",
    "\r\n",
    "#print(html)\r\n",
    "\r\n",
    "pattern = \"<title.*?>.*?</title.*?>\"\r\n",
    "match_results = re.search(pattern, html, re.IGNORECASE)\r\n",
    "title = match_results.group()\r\n",
    "title = re.sub(\"<.*?>\", \"\", title) # Remove HTML tags\r\n",
    "\r\n",
    "print(title)"
   ],
   "outputs": [
    {
     "output_type": "stream",
     "name": "stdout",
     "text": [
      "<http.client.HTTPResponse object at 0x000001CA11B54D60>\n",
      "Profile: Dionysus\n"
     ]
    }
   ],
   "metadata": {}
  },
  {
   "cell_type": "code",
   "execution_count": 2,
   "source": [
    "# source code: https://realpython.com/python-web-scraping-practical-introduction/\r\n",
    "\r\n",
    "from bs4 import BeautifulSoup\r\n",
    "from urllib.request import urlopen\r\n",
    "\r\n",
    "url = \"http://olympus.realpython.org/profiles/dionysus\"\r\n",
    "page = urlopen(url)\r\n",
    "html = page.read().decode(\"utf-8\")\r\n",
    "soup = BeautifulSoup(html, \"html.parser\")\r\n",
    "\r\n",
    "print(soup)\r\n",
    "\r\n",
    "print(soup.title.string)\r\n",
    "\r\n",
    "print(soup.get_text())\r\n",
    "soup.find_all(\"img\")"
   ],
   "outputs": [
    {
     "output_type": "stream",
     "name": "stdout",
     "text": [
      "<html>\n",
      "<head>\n",
      "<title>Profile: Dionysus</title>\n",
      "</head>\n",
      "<body bgcolor=\"yellow\">\n",
      "<center>\n",
      "<br/><br/>\n",
      "<img src=\"/static/dionysus.jpg\"/>\n",
      "<h2>Name: Dionysus</h2>\n",
      "<img src=\"/static/grapes.png\"/><br/><br/>\n",
      "Hometown: Mount Olympus\n",
      "<br/><br/>\n",
      "Favorite animal: Leopard <br/>\n",
      "<br/>\n",
      "Favorite Color: Wine\n",
      "</center>\n",
      "</body>\n",
      "</html>\n",
      "\n",
      "Profile: Dionysus\n",
      "\n",
      "\n",
      "Profile: Dionysus\n",
      "\n",
      "\n",
      "\n",
      "\n",
      "\n",
      "Name: Dionysus\n",
      "\n",
      "Hometown: Mount Olympus\n",
      "\n",
      "Favorite animal: Leopard \n",
      "\n",
      "Favorite Color: Wine\n",
      "\n",
      "\n",
      "\n",
      "\n"
     ]
    },
    {
     "output_type": "execute_result",
     "data": {
      "text/plain": [
       "[<img src=\"/static/dionysus.jpg\"/>, <img src=\"/static/grapes.png\"/>]"
      ]
     },
     "metadata": {},
     "execution_count": 2
    }
   ],
   "metadata": {}
  },
  {
   "cell_type": "code",
   "execution_count": null,
   "source": [],
   "outputs": [],
   "metadata": {}
  }
 ],
 "metadata": {
  "orig_nbformat": 4,
  "language_info": {
   "name": "python",
   "version": "3.8.3",
   "mimetype": "text/x-python",
   "codemirror_mode": {
    "name": "ipython",
    "version": 3
   },
   "pygments_lexer": "ipython3",
   "nbconvert_exporter": "python",
   "file_extension": ".py"
  },
  "kernelspec": {
   "name": "python3",
   "display_name": "Python 3.8.3 64-bit ('base': conda)"
  },
  "interpreter": {
   "hash": "b3ba2566441a7c06988d0923437866b63cedc61552a5af99d1f4fb67d367b25f"
  }
 },
 "nbformat": 4,
 "nbformat_minor": 2
}