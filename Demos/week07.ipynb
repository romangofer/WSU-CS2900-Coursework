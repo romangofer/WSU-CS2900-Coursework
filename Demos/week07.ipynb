{
 "metadata": {
  "language_info": {
   "codemirror_mode": {
    "name": "ipython",
    "version": 3
   },
   "file_extension": ".py",
   "mimetype": "text/x-python",
   "name": "python",
   "nbconvert_exporter": "python",
   "pygments_lexer": "ipython3",
   "version": "3.8.3"
  },
  "orig_nbformat": 4,
  "kernelspec": {
   "name": "python3",
   "display_name": "Python 3.8.3 64-bit ('base': conda)"
  },
  "interpreter": {
   "hash": "b3ba2566441a7c06988d0923437866b63cedc61552a5af99d1f4fb67d367b25f"
  }
 },
 "nbformat": 4,
 "nbformat_minor": 2,
 "cells": [
  {
   "source": [
    "# Week 07"
   ],
   "cell_type": "markdown",
   "metadata": {}
  },
  {
   "cell_type": "code",
   "execution_count": 4,
   "metadata": {},
   "outputs": [
    {
     "output_type": "stream",
     "name": "stdout",
     "text": [
      "[[[8 1 5 9 8]\n  [9 4 3 0 3]\n  [5 0 2 3 8]\n  [1 3 3 3 7]]\n\n [[0 1 9 9 0]\n  [4 7 3 2 7]\n  [2 0 0 4 5]\n  [5 6 8 4 1]]\n\n [[4 9 8 1 1]\n  [7 9 9 3 6]\n  [7 2 0 3 5]\n  [9 4 4 6 4]]]\n"
     ]
    }
   ],
   "source": [
    "import numpy as np \n",
    "np.random.seed(0) # seed for reproducibility\n",
    "\n",
    "x1 = np.random.randint(10, size=6) # One-dimensional array\n",
    "x2 = np.random.randint(10, size=(3, 4)) # Two-dimensional array\n",
    "x3 = np.random.randint(10, size=(3, 4, 5))\n",
    "\n",
    "#print(x1)\n",
    "#print(x2)\n",
    "print(x3)"
   ]
  },
  {
   "cell_type": "code",
   "execution_count": 6,
   "metadata": {},
   "outputs": [
    {
     "output_type": "stream",
     "name": "stdout",
     "text": [
      "x3 ndim:  3\nx3 shape: (3, 4, 5)\nx3 size:  60\ndtype: int32\nitemsize: 4 bytes\nnbytes: 240 bytes\n"
     ]
    }
   ],
   "source": [
    "print(\"x3 ndim: \", x3.ndim) # number dimensions\n",
    "print(\"x3 shape:\", x3.shape) # \n",
    "print(\"x3 size: \", x3.size)\n",
    "print(\"dtype:\", x3.dtype)\n",
    "print(\"itemsize:\", x3.itemsize, \"bytes\")\n",
    "print(\"nbytes:\", x3.nbytes, \"bytes\")\n"
   ]
  },
  {
   "cell_type": "code",
   "execution_count": 12,
   "metadata": {},
   "outputs": [
    {
     "output_type": "stream",
     "name": "stdout",
     "text": [
      "[5 0 3 3 7 9]\n[3 7]\n[5 3 7]\n"
     ]
    }
   ],
   "source": [
    "print(x1)\n",
    "print(x1[3:5])\n",
    "print(x1[::2])"
   ]
  },
  {
   "cell_type": "code",
   "execution_count": 26,
   "metadata": {},
   "outputs": [
    {
     "output_type": "stream",
     "name": "stdout",
     "text": [
      "[[ 3  5  2  4]\n [ 7  6  8  8]\n [ 1  6 24  7]]\n6\n[[ 3  2]\n [ 1 24]]\n[3 7 1]\n[ 1  6 24  7]\n[[ 3  2]\n [ 1 24]]\n[[ 3  2]\n [ 1 24]]\n[[ 3  5  2  4]\n [ 7  6  8  8]\n [ 1  6 24  7]]\n"
     ]
    }
   ],
   "source": [
    "print(x2)\n",
    "print(x2[1,-3])\n",
    "\n",
    "print(x2[::2, ::2])\n",
    "\n",
    "print(x2[:, 0])\n",
    "print(x2[2, :])\n",
    "\n",
    "x2_sub = x2[::2, ::2]\n",
    "\n",
    "print(x2_sub)\n",
    "x2_sub[1,1] = 24\n",
    "print(x2_sub)\n",
    "print(x2)"
   ]
  },
  {
   "cell_type": "code",
   "execution_count": 29,
   "metadata": {},
   "outputs": [
    {
     "output_type": "stream",
     "name": "stdout",
     "text": [
      "[[1 2 3]\n [4 5 6]\n [7 8 9]]\n"
     ]
    }
   ],
   "source": [
    "grid = np.arange(1, 10).reshape((3, 3))\n",
    "print(grid)\n"
   ]
  },
  {
   "cell_type": "code",
   "execution_count": 30,
   "metadata": {},
   "outputs": [
    {
     "output_type": "stream",
     "name": "stdout",
     "text": [
      "[1 2 3]\n[1 2 3]\n[1 2 3]\n"
     ]
    }
   ],
   "source": [
    "x = np.array([1, 2, 3])\n",
    "print(x)\n",
    "\n",
    "# row vector via reshape\n",
    "x.reshape((1, 3))\n",
    "# x[np.newaxis, :]\n",
    "print(x)\n",
    "\n",
    "# column vector via reshape\n",
    "x.reshape((3, 1))\n",
    "# x[:, np.newaxis]\n",
    "print(x)"
   ]
  },
  {
   "cell_type": "code",
   "execution_count": 33,
   "metadata": {},
   "outputs": [
    {
     "output_type": "stream",
     "name": "stdout",
     "text": [
      "[1 2 3 3 2 1]\n[ 1  2  3  3  2  1 99 99 99]\n"
     ]
    }
   ],
   "source": [
    "x = np.array([1, 2, 3])\n",
    "y = np.array([3, 2, 1])\n",
    "print(np.concatenate([x, y]))\n",
    "\n",
    "z = [99, 99, 99]\n",
    "print(np.concatenate([x, y, z]))"
   ]
  },
  {
   "cell_type": "code",
   "execution_count": 34,
   "metadata": {},
   "outputs": [
    {
     "output_type": "stream",
     "name": "stdout",
     "text": [
      "[[1 2 3]\n [4 5 6]\n [1 2 3]\n [4 5 6]]\n"
     ]
    }
   ],
   "source": [
    "grid = np.array([[1, 2, 3], \n",
    "                  [4, 5, 6]])\n",
    "print(np.concatenate([grid, grid]))"
   ]
  },
  {
   "cell_type": "code",
   "execution_count": 35,
   "metadata": {},
   "outputs": [
    {
     "output_type": "stream",
     "name": "stdout",
     "text": [
      "x     = [0 1 2 3]\nx + 5 = [5 6 7 8]\nx - 5 = [-5 -4 -3 -2]\nx * 2 = [0 2 4 6]\nx / 2 = [0.  0.5 1.  1.5]\nx // 2 = [0 0 1 1]\n"
     ]
    }
   ],
   "source": [
    "x = np.arange(4)\n",
    "print(\"x     =\", x)\n",
    "print(\"x + 5 =\", x + 5)\n",
    "print(\"x - 5 =\", x - 5)\n",
    "print(\"x * 2 =\", x * 2)\n",
    "print(\"x / 2 =\", x / 2)\n",
    "print(\"x // 2 =\", x // 2)  # floor division"
   ]
  },
  {
   "cell_type": "code",
   "execution_count": 45,
   "metadata": {},
   "outputs": [
    {
     "output_type": "stream",
     "name": "stdout",
     "text": [
      "[0 1 2 3]\n[0. 0. 0. 0.]\n"
     ]
    },
    {
     "output_type": "execute_result",
     "data": {
      "text/plain": [
       "array([ 0.,  5., 10., 15.])"
      ]
     },
     "metadata": {},
     "execution_count": 45
    }
   ],
   "source": [
    "x = np.arange(4)\n",
    "print(x)\n",
    "\n",
    "y = np.zeros(4)\n",
    "print(y)\n",
    "np.multiply(x, 5, out=y)"
   ]
  },
  {
   "cell_type": "code",
   "execution_count": 48,
   "metadata": {},
   "outputs": [
    {
     "output_type": "stream",
     "name": "stdout",
     "text": [
      "[1 2 3 4 5]\n15\n[ 1  3  6 10 15]\n1\n"
     ]
    }
   ],
   "source": [
    "x = np.arange(1, 6)\n",
    "print(x)\n",
    "print(np.add.reduce(x))\n",
    "\n",
    "print(np.add.accumulate(x))\n",
    "print(np.min(x))"
   ]
  },
  {
   "cell_type": "code",
   "execution_count": 52,
   "metadata": {},
   "outputs": [
    {
     "output_type": "stream",
     "name": "stdout",
     "text": [
      "[[0.27771856 0.0093567  0.84234208 0.64717414]\n [0.84138612 0.26473016 0.39782075 0.55282148]\n [0.16494046 0.36980809 0.14644176 0.56961841]]\n"
     ]
    },
    {
     "output_type": "execute_result",
     "data": {
      "text/plain": [
       "0.4236798936468749"
      ]
     },
     "metadata": {},
     "execution_count": 52
    }
   ],
   "source": [
    "M = np.random.random((3, 4))\n",
    "print(M)\n",
    "\n",
    "M.sum()\n",
    "M.mean()"
   ]
  },
  {
   "cell_type": "code",
   "execution_count": 66,
   "metadata": {},
   "outputs": [
    {
     "output_type": "stream",
     "name": "stdout",
     "text": [
      "Minimum height: 163\nMaximum height: 193\nMean height: 179.73809523809524\nStandard deviation in average height: 6.931843442745892\n25% height: 174.25\nMedian height: 182.0\n75% height: 183.0\n"
     ]
    }
   ],
   "source": [
    "import pandas as pd \n",
    "import numpy as np  \n",
    "\n",
    "data = pd.read_csv('presidential_heights.csv')\n",
    "\n",
    "heights = np.array(data['height(cm)'])\n",
    "\n",
    "#print(data)\n",
    "#print(data['height(cm)'])\n",
    "\n",
    "print(f\"Minimum height: {heights.min()}\")\n",
    "print(f\"Maximum height: {heights.max()}\")\n",
    "print(f\"Mean height: {heights.mean()}\")\n",
    "print(f\"Standard deviation in average height: {heights.std()}\")\n",
    "\n",
    "print(f\"25% height: {np.percentile(heights, 25)}\")\n",
    "print(f\"Median height: {np.median(heights)}\")\n",
    "print(f\"75% height: {np.percentile(heights, 75)}\")\n"
   ]
  },
  {
   "cell_type": "code",
   "execution_count": null,
   "metadata": {},
   "outputs": [],
   "source": []
  }
 ]
}