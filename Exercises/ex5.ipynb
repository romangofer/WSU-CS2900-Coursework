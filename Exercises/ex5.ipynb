{
 "metadata": {
  "language_info": {
   "codemirror_mode": {
    "name": "ipython",
    "version": 3
   },
   "file_extension": ".py",
   "mimetype": "text/x-python",
   "name": "python",
   "nbconvert_exporter": "python",
   "pygments_lexer": "ipython3",
   "version": "3.8.3"
  },
  "orig_nbformat": 4,
  "kernelspec": {
   "name": "python3",
   "display_name": "Python 3.8.3 64-bit ('base': conda)"
  },
  "interpreter": {
   "hash": "b3ba2566441a7c06988d0923437866b63cedc61552a5af99d1f4fb67d367b25f"
  }
 },
 "nbformat": 4,
 "nbformat_minor": 2,
 "cells": [
  {
   "source": [
    "Part 1:"
   ],
   "cell_type": "markdown",
   "metadata": {}
  },
  {
   "cell_type": "code",
   "execution_count": 258,
   "metadata": {},
   "outputs": [
    {
     "output_type": "stream",
     "name": "stdout",
     "text": [
      "   number     pokemon   evolution    p_type  hp\n0       1   bulbasaur    venusaur     grass  25\n1       4  charmander   charizard      fire  55\n2       7    squirtle   blastoise     water  32\n3      25     pikachu      raichu  electric  34\n4      10    caterpie  butterfree       bug  21\n5      13      weedle    beedrill       bug  23\n"
     ]
    }
   ],
   "source": [
    "import pandas as pd \n",
    "import numpy as np\n",
    "\n",
    "number = [1, 4, 7, 25, 10, 13]\n",
    "pokemon = ['bulbasaur', 'charmander', 'squirtle', 'pikachu', 'caterpie', 'weedle']\n",
    "evolution = ['venusaur', 'charizard', 'blastoise', 'raichu', 'butterfree', 'beedrill']\n",
    "p_type = ['grass', 'fire', 'water', 'electric', 'bug', 'bug']\n",
    "hp = [25, 55, 32, 34, 21, 23]\n",
    "\n",
    "numbers = pd.Series(number)\n",
    "pokemons = pd.Series(pokemon)\n",
    "evolutions = pd.Series(evolution)\n",
    "p_types = pd.Series(p_type)\n",
    "hps = pd.Series(hp)\n",
    "\n",
    "info = pd.DataFrame({'number': numbers, 'pokemon': pokemons, 'evolution': evolutions, 'p_type': p_types, 'hp': hps})\n",
    "\n",
    "print(info)"
   ]
  },
  {
   "source": [
    "Part 2:"
   ],
   "cell_type": "markdown",
   "metadata": {}
  },
  {
   "cell_type": "code",
   "execution_count": 259,
   "metadata": {},
   "outputs": [
    {
     "output_type": "stream",
     "name": "stdout",
     "text": [
      "Only the bugs:\n   number   pokemon   evolution p_type  hp\n4      10  caterpie  butterfree    bug  21\n5      13    weedle    beedrill    bug  23\nOnly the pokemon with less than 30 hp:\n   number    pokemon   evolution p_type  hp\n0       1  bulbasaur    venusaur  grass  25\n4      10   caterpie  butterfree    bug  21\n5      13     weedle    beedrill    bug  23\nOnly the pokemon name and hp for pokemon with hp less than 30:\n     pokemon  hp\n0  bulbasaur  25\n4   caterpie  21\n5     weedle  23\n"
     ]
    }
   ],
   "source": [
    "print('Only the bugs:')\n",
    "print(info.iloc[4:6]) # display only the bugs\n",
    "\n",
    "print('Only the pokemon with less than 30 hp:')\n",
    "print(info[(info['hp'] < 30)]) # only the pokemon with less than 30 hp\n",
    "\n",
    "under_30 = (info[info['hp'] < 30]) # display only the pokemon name and hp for pokemon with hp less than 30\n",
    "print('Only the pokemon name and hp for pokemon with hp less than 30:')\n",
    "print(under_30[['pokemon', 'hp']])\n"
   ]
  },
  {
   "source": [
    "Part 3:"
   ],
   "cell_type": "markdown",
   "metadata": {}
  },
  {
   "cell_type": "code",
   "execution_count": 260,
   "metadata": {},
   "outputs": [
    {
     "output_type": "stream",
     "name": "stdout",
     "text": [
      "First 10 entries of the DataFrame:\n   order_id  quantity                              item_name  \\\n0         1         1           Chips and Fresh Tomato Salsa   \n1         1         1                                   Izze   \n2         1         1                       Nantucket Nectar   \n3         1         1  Chips and Tomatillo-Green Chili Salsa   \n4         2         2                           Chicken Bowl   \n5         3         1                           Chicken Bowl   \n6         3         1                          Side of Chips   \n7         4         1                          Steak Burrito   \n8         4         1                       Steak Soft Tacos   \n9         5         1                          Steak Burrito   \n\n                                  choice_description  item_price  \n0                                                NaN        2.39  \n1                                       [Clementine]        3.39  \n2                                            [Apple]        3.39  \n3                                                NaN        2.39  \n4  [Tomatillo-Red Chili Salsa (Hot), [Black Beans...       16.98  \n5  [Fresh Tomato Salsa (Mild), [Rice, Cheese, Sou...       10.98  \n6                                                NaN        1.69  \n7  [Tomatillo Red Chili Salsa, [Fajita Vegetables...       11.75  \n8  [Tomatillo Green Chili Salsa, [Pinto Beans, Ch...        9.25  \n9  [Fresh Tomato Salsa, [Rice, Black Beans, Pinto...        9.25  \nLast 10 entries of the DataFrame:\n      order_id  quantity            item_name  \\\n4612      1831         1        Carnitas Bowl   \n4613      1831         1                Chips   \n4614      1831         1        Bottled Water   \n4615      1832         1   Chicken Soft Tacos   \n4616      1832         1  Chips and Guacamole   \n4617      1833         1        Steak Burrito   \n4618      1833         1        Steak Burrito   \n4619      1834         1   Chicken Salad Bowl   \n4620      1834         1   Chicken Salad Bowl   \n4621      1834         1   Chicken Salad Bowl   \n\n                                     choice_description  item_price  \n4612  [Fresh Tomato Salsa, [Fajita Vegetables, Rice,...        9.25  \n4613                                                NaN        2.15  \n4614                                                NaN        1.50  \n4615   [Fresh Tomato Salsa, [Rice, Cheese, Sour Cream]]        8.75  \n4616                                                NaN        4.45  \n4617  [Fresh Tomato Salsa, [Rice, Black Beans, Sour ...       11.75  \n4618  [Fresh Tomato Salsa, [Rice, Sour Cream, Cheese...       11.75  \n4619  [Fresh Tomato Salsa, [Fajita Vegetables, Pinto...       11.25  \n4620  [Fresh Tomato Salsa, [Fajita Vegetables, Lettu...        8.75  \n4621  [Fresh Tomato Salsa, [Fajita Vegetables, Pinto...        8.75  \n"
     ]
    }
   ],
   "source": [
    "df = pd.read_csv(\"chipotle.tsv\", sep = '\\t', dtype={'item_price': str}) # The string conversion is for part 6.\n",
    "df['item_price'] = df['item_price'].str.replace(',','').str.replace('$','').astype('float') # This removal of commas and dollar signs and converting the prices to floats is also for part 6. It wouldn't work in my part 6 cell, so I had to put it here.\n",
    "#print(df)\n",
    "\n",
    "first_10 = df.head(10)\n",
    "print(\"First 10 entries of the DataFrame:\")\n",
    "print(first_10)\n",
    "\n",
    "last_10 = df.tail(10)\n",
    "print(\"Last 10 entries of the DataFrame:\")\n",
    "print(last_10)\n",
    "\n",
    "# Source Used:\n",
    "\n",
    "# Using .head() in a DataFrame: https://www.w3resource.com/python-exercises/pandas/movies/python-pandas-movies-exercise-9.php\n"
   ]
  },
  {
   "source": [
    "Part 4:"
   ],
   "cell_type": "markdown",
   "metadata": {}
  },
  {
   "cell_type": "code",
   "execution_count": 261,
   "metadata": {},
   "outputs": [
    {
     "output_type": "stream",
     "name": "stdout",
     "text": [
      "All details for order 110:\n     order_id  quantity              item_name  \\\n252       110         1           Chicken Bowl   \n253       110         1            Veggie Bowl   \n254       110         1          Barbacoa Bowl   \n255       110         1  Barbacoa Crispy Tacos   \n\n                                    choice_description  item_price  \n252  [Tomatillo Red Chili Salsa, [Rice, Cheese, Let...        8.75  \n253  [Roasted Chili Corn Salsa, [Rice, Pinto Beans,...        8.75  \n254  [Tomatillo Red Chili Salsa, [Rice, Cheese, Let...        9.25  \n255  [Roasted Chili Corn Salsa, [Rice, Cheese, Lett...        9.25  \n"
     ]
    }
   ],
   "source": [
    "order_110_df = (df[df['order_id'] == 110])\n",
    "print('All details for order 110:')\n",
    "print(order_110_df)\n",
    "\n",
    "#o = (df[df['order_id'] == 110]['quantity'])\n",
    "#r = (df[df['order_id'] == 110]['item_name'])\n",
    "#d = (df[df['order_id'] == 110]['choice_description'])\n",
    "#e = (df[df['order_id'] == 110]['item_price'])\n",
    "#df_1 = pd.Series(o)\n",
    "#df_2 = pd.Series(r)\n",
    "#df_3 = pd.Series(d)\n",
    "#df_4 = pd.Series(e)\n",
    "#print(df_1)\n",
    "#print(df_2)\n",
    "#print(df_3)\n",
    "#print(df_4)\n",
    "\n",
    "details = pd.DataFrame({'quantity': df_1 , 'item name': df_2, 'description': df_3, 'price': df_4})\n",
    "\n",
    "#print(details)"
   ]
  },
  {
   "source": [
    "Part 5:"
   ],
   "cell_type": "markdown",
   "metadata": {}
  },
  {
   "cell_type": "code",
   "execution_count": 262,
   "metadata": {},
   "outputs": [
    {
     "output_type": "stream",
     "name": "stdout",
     "text": [
      "Choice Descriptions for Chicken Soft Tacos in Order 18:\n35                 [Roasted Chili Corn Salsa, Rice]\n36    [Roasted Chili Corn Salsa, [Cheese, Lettuce]]\n37                                              NaN\n38                                              NaN\nName: choice_description, dtype: object\n"
     ]
    }
   ],
   "source": [
    "order_18_df = (df[df['order_id'] == 18]['choice_description'])\n",
    "print('Choice Descriptions for Chicken Soft Tacos in Order 18:')\n",
    "print(order_18_df)"
   ]
  },
  {
   "source": [
    "Part 6:"
   ],
   "cell_type": "markdown",
   "metadata": {}
  },
  {
   "cell_type": "code",
   "execution_count": 263,
   "metadata": {},
   "outputs": [
    {
     "output_type": "execute_result",
     "data": {
      "text/plain": [
       "<class 'float'>    4622\n",
       "Name: item_price, dtype: int64"
      ]
     },
     "metadata": {},
     "execution_count": 263
    }
   ],
   "source": [
    "df['item_price'].apply(type).value_counts() # This check verifies that the values in the item_price column were converted to floats since it displays <class 'float'>."
   ]
  },
  {
   "source": [
    "Part 7:"
   ],
   "cell_type": "markdown",
   "metadata": {}
  },
  {
   "cell_type": "code",
   "execution_count": 264,
   "metadata": {},
   "outputs": [
    {
     "output_type": "stream",
     "name": "stdout",
     "text": [
      " order_id  quantity                     item_name\n     1443        15  Chips and Fresh Tomato Salsa\n"
     ]
    }
   ],
   "source": [
    "max_price = np.max(df['item_price'])\n",
    "# print(max_price) I used this to find the maximum price, and then I used .loc to find the specific information for the item attached to that price.\n",
    "\n",
    "max_item = df.loc[df['item_price'] == 44.25, ['order_id', 'quantity', 'item_name']] # Find item information for $44.25 price\n",
    "\n",
    "print(max_item.to_string(index = False)) # Remove index number when printing information\n"
   ]
  },
  {
   "source": [
    "Part 8:"
   ],
   "cell_type": "markdown",
   "metadata": {}
  },
  {
   "cell_type": "code",
   "execution_count": 265,
   "metadata": {
    "tags": []
   },
   "outputs": [
    {
     "output_type": "stream",
     "name": "stdout",
     "text": [
      "Items ordered in order 577:\n11\n"
     ]
    }
   ],
   "source": [
    "#orderid = df['order_id']\n",
    "#order_577 = orderid[orderid == 577]\n",
    "\n",
    "\n",
    "#print(order_577)\n",
    "\n",
    "#print('Items ordered in 577:')\n",
    "#print(order)\n",
    "\n",
    "order_577 = (df[df['order_id'] == 577])\n",
    "#print(order_577)\n",
    "#quant_577 = order_577['quantity']\n",
    "\n",
    "total = order_577['quantity'].sum()\n",
    "\n",
    "#print(over_onehund[['population', 'density']])\n",
    "\n",
    "print('Items ordered in order 577:')\n",
    "print(total)"
   ]
  },
  {
   "source": [
    "Part 9:"
   ],
   "cell_type": "markdown",
   "metadata": {}
  },
  {
   "cell_type": "code",
   "execution_count": 266,
   "metadata": {},
   "outputs": [
    {
     "output_type": "stream",
     "name": "stdout",
     "text": [
      "The total order price for order 577 was:\n$ 71.15\n"
     ]
    }
   ],
   "source": [
    "total_price = order_577['item_price'].sum()\n",
    "\n",
    "print('The total order price for order 577 was:')\n",
    "print('$',total_price)"
   ]
  },
  {
   "source": [
    "Part 10:"
   ],
   "cell_type": "markdown",
   "metadata": {}
  },
  {
   "cell_type": "code",
   "execution_count": 267,
   "metadata": {},
   "outputs": [
    {
     "output_type": "stream",
     "name": "stdout",
     "text": [
      "Total number of 'Steak Bowl' orders placed: 221\n"
     ]
    }
   ],
   "source": [
    "steak_bowl = df.loc[df['item_name'] == 'Steak Bowl']\n",
    "#print(steak_bowl)\n",
    "\n",
    "steak_bowl_total = np.sum(steak_bowl['quantity'])\n",
    "\n",
    "print(f\"Total number of 'Steak Bowl' orders placed: {steak_bowl_total}\")\n",
    "\n",
    "#df.loc[df['item_name'] == 'Steak Bowl'].apply(type).value_counts()"
   ]
  },
  {
   "cell_type": "code",
   "execution_count": null,
   "metadata": {},
   "outputs": [],
   "source": []
  }
 ]
}