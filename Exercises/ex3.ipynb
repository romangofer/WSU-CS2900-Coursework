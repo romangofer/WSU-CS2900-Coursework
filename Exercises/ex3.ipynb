{
 "metadata": {
  "language_info": {
   "codemirror_mode": {
    "name": "ipython",
    "version": 3
   },
   "file_extension": ".py",
   "mimetype": "text/x-python",
   "name": "python",
   "nbconvert_exporter": "python",
   "pygments_lexer": "ipython3",
   "version": "3.8.3"
  },
  "orig_nbformat": 2,
  "kernelspec": {
   "name": "python383jvsc74a57bd0b3ba2566441a7c06988d0923437866b63cedc61552a5af99d1f4fb67d367b25f",
   "display_name": "Python 3.8.3 64-bit ('base': conda)"
  }
 },
 "nbformat": 4,
 "nbformat_minor": 2,
 "cells": [
  {
   "source": [
    "# Exercise 3\n",
    "\n",
    "Part 1:"
   ],
   "cell_type": "markdown",
   "metadata": {}
  },
  {
   "cell_type": "code",
   "execution_count": 225,
   "metadata": {},
   "outputs": [
    {
     "output_type": "stream",
     "name": "stdout",
     "text": [
      "[50, 28, 7, 39, 38, 13, 9, 47, 29, 10, 21, 9, 40, 11, 16, 30, 50, 17, 12, 49, 29, 44, 13, 7, 29, 26, 30, 26, 33, 48, 32, 21, 21, 49, 12, 40, 33, 26, 9, 25]\n"
     ]
    }
   ],
   "source": [
    "import json\n",
    "import yaml\n",
    "import random\n",
    "\n",
    "random_list = []\n",
    "\n",
    "for i in range(0,40):\n",
    "    random_list.append(random.randint(5,50))\n",
    "print(random_list)\n",
    "\n",
    "with open(\"basic-data.txt\", \"w\") as f:\n",
    "       for num in random_list:\n",
    "           f.write(str(f\"{num}\\n\"))\n",
    "\n",
    "with open(\"basic-data.yaml\", \"w\") as f:\n",
    "    yaml.dump(random_list, f)\n",
    "\n",
    "with open(\"basic-data.json\", \"w\") as f:\n",
    "       json.dump(random_list, f)\n",
    "\n",
    "# Sources Used:\n",
    "\n",
    "# In-class demos\n"
   ]
  },
  {
   "source": [
    "Part 2:"
   ],
   "cell_type": "markdown",
   "metadata": {}
  },
  {
   "cell_type": "code",
   "execution_count": 2,
   "metadata": {},
   "outputs": [
    {
     "output_type": "stream",
     "name": "stdout",
     "text": [
      "Stats for data in basic-data.json file:\n\tMean: 27\n\tMedian: 27\n\tMode: 9\n"
     ]
    }
   ],
   "source": [
    "filename=\"basic-data.json\"\n",
    "\n",
    "import json\n",
    "\n",
    "with open(filename) as f:\n",
    "    numbers=json.load(f)\n",
    "\n",
    "added=sum(numbers)\n",
    "length=len(numbers)\n",
    "final=round(added/length)\n",
    "\n",
    "import statistics\n",
    "median=statistics.median(numbers)\n",
    "\n",
    "mode=statistics.mode(numbers)\n",
    "\n",
    "print(f\"Stats for data in {filename} file:\")\n",
    "print(f\"\\tMean: {final}\")\n",
    "print(f\"\\tMedian: {round(median)}\")\n",
    "print(f\"\\tMode: {mode}\")\n",
    "\n",
    "# Sources Used:\n",
    "\n",
    "# In-class demos\n",
    "\n",
    "# Stack Overflow for Finding Median: https://stackoverflow.com/questions/24101524/finding-median-of-list-in-python\n",
    "\n",
    "# Stack Overflow for Finding Mode: https://stackoverflow.com/questions/10797819/finding-the-mode-of-a-list\n",
    "\n"
   ]
  },
  {
   "source": [
    "Part 3:"
   ],
   "cell_type": "markdown",
   "metadata": {}
  },
  {
   "cell_type": "code",
   "execution_count": 227,
   "metadata": {},
   "outputs": [],
   "source": [
    "import json\n",
    "with open(\"forecast.json\") as f:\n",
    "    file_dictionary = json.load(f)\n",
    "\n",
    "for key in periods:\n",
    "    if key == \"Tuesday\":\n",
    "        print(detailedForecast)\n",
    "\n",
    "# I was confused on this, but I did try to break down the data by playing with the dictionary keys. I'm still confused on how to code this, but above I tried to make a for loop to try to find the \"Tuesday\" key inside one of the dictionaries of the \"periods\" list in the forecast.json file. Also, I attempted to make the system print the \"detailedForecast\" information once it found the dictionary that had \"Tuesday\" as its \"name\" value.\n",
    "\n",
    "# I feel like I have a decent idea of what is supposed to happen with the code for this part, but I just couldn't figure out how to translate that into actual syntax, so I wanted to try and explain what I feel that I do understand for this part. This way, you can still know a little bit of what I was thinking when attempting this part.\n",
    "\n",
    "    \n"
   ]
  },
  {
   "cell_type": "code",
   "execution_count": null,
   "metadata": {},
   "outputs": [],
   "source": []
  }
 ]
}