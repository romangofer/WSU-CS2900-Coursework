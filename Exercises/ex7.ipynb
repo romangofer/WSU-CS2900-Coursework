{
 "metadata": {
  "language_info": {
   "codemirror_mode": {
    "name": "ipython",
    "version": 3
   },
   "file_extension": ".py",
   "mimetype": "text/x-python",
   "name": "python",
   "nbconvert_exporter": "python",
   "pygments_lexer": "ipython3",
   "version": "3.8.3"
  },
  "orig_nbformat": 4,
  "kernelspec": {
   "name": "python3",
   "display_name": "Python 3.8.3 64-bit ('base': conda)"
  },
  "interpreter": {
   "hash": "b3ba2566441a7c06988d0923437866b63cedc61552a5af99d1f4fb67d367b25f"
  }
 },
 "nbformat": 4,
 "nbformat_minor": 2,
 "cells": [
  {
   "source": [
    "Part 1:"
   ],
   "cell_type": "markdown",
   "metadata": {}
  },
  {
   "cell_type": "code",
   "execution_count": 128,
   "metadata": {},
   "outputs": [],
   "source": [
    "import pandas as pd "
   ]
  },
  {
   "cell_type": "code",
   "execution_count": 129,
   "metadata": {},
   "outputs": [
    {
     "output_type": "stream",
     "name": "stdout",
     "text": [
      "  subject_id first_name last_name  test_id\n0          1       Alex  Anderson       51\n1          2        Amy  Ackerman       15\n2          3      Allen       Ali       15\n3          4      Alice      Aoni       61\n4          4      Billy    Bonder       61\n5          5     Ayoung   Atiches       16\n6          5      Brian     Black       16\n7          7      Bryce     Brice       14\n8          8      Betty    Btisan       15\n"
     ]
    }
   ],
   "source": [
    "set1 = pd.DataFrame( {\n",
    "        'subject_id': ['1', '2', '3', '4', '5'],\n",
    "        'first_name': ['Alex', 'Amy', 'Allen', 'Alice', 'Ayoung'], \n",
    "        'last_name': ['Anderson', 'Ackerman', 'Ali', 'Aoni', 'Atiches']} )\n",
    "\n",
    "set2 = pd.DataFrame({\n",
    "        'subject_id': ['4', '5', '6', '7', '8'],\n",
    "        'first_name': ['Billy', 'Brian', 'Bran', 'Bryce', 'Betty'], \n",
    "        'last_name': ['Bonder', 'Black', 'Balwner', 'Brice', 'Btisan']})\n",
    "\n",
    "scores3 = pd.DataFrame({\n",
    "        'subject_id': ['1', '2', '3', '4', '5', '7', '8', '9', '10', '11'],\n",
    "        'test_id': [51, 15, 15, 61, 16, 14, 15, 1, 61, 16]})\n",
    "\n",
    "\n",
    "\n",
    "\n",
    "\n",
    "frames = [set1, set2, scores3]\n",
    "\n",
    "#result = set1.append(set2)\n",
    "\n",
    "#result_2 = result.append(scores3)\n",
    "#t = scores3['test_id']\n",
    "\n",
    "#print(t)\n",
    "#result_2 = result.append()\n",
    "result = pd.concat([set1, set2], sort = False)\n",
    "result_2 = pd.merge(result,scores3)\n",
    "print(result_2)\n",
    "#print(result)\n",
    "\n",
    "# Source Used:\n",
    "\n",
    "# https://blog.devgenius.io/combining-data-in-pandas-31c984afceb7\n"
   ]
  },
  {
   "source": [
    "Part 2:"
   ],
   "cell_type": "markdown",
   "metadata": {}
  },
  {
   "cell_type": "code",
   "execution_count": 130,
   "metadata": {},
   "outputs": [
    {
     "output_type": "stream",
     "name": "stdout",
     "text": [
      "     state/region     ages  year   population    state\n0              AL  under18  2012    1117489.0  Alabama\n1              AL    total  2012    4817528.0  Alabama\n2              AL  under18  2010    1130966.0  Alabama\n3              AL    total  2010    4785570.0  Alabama\n4              AL  under18  2011    1125763.0  Alabama\n...           ...      ...   ...          ...      ...\n2539          USA    total  2010  309326295.0      NaN\n2540          USA  under18  2011   73902222.0      NaN\n2541          USA    total  2011  311582564.0      NaN\n2542          USA  under18  2012   73708179.0      NaN\n2543          USA    total  2012  313873685.0      NaN\n\n[2544 rows x 5 columns]\n"
     ]
    }
   ],
   "source": [
    "df2 = pd.read_csv(\"https://raw.githubusercontent.com/jakevdp/data-USstates/master/state-abbrevs.csv\")\n",
    "df1 = pd.read_csv(\"https://raw.githubusercontent.com/jakevdp/data-USstates/master/state-population.csv\")\n",
    "\n",
    "result = pd.concat([df2, df1], sort = False)\n",
    "#print(df1)\n",
    "#print(df2)\n",
    "new = pd.merge(df1, df2, left_on='state/region', right_on=\"abbreviation\", how = 'outer').drop('abbreviation', axis=1)\n",
    "\n",
    "\n",
    "print(new)\n",
    "\n",
    "# Sources Used:\n",
    "\n",
    "# https://jakevdp.github.io/PythonDataScienceHandbook/03.07-merge-and-join.html"
   ]
  },
  {
   "source": [
    "Part 3:"
   ],
   "cell_type": "markdown",
   "metadata": {}
  },
  {
   "cell_type": "code",
   "execution_count": 131,
   "metadata": {},
   "outputs": [
    {
     "output_type": "stream",
     "name": "stdout",
     "text": [
      "Columns with missing data:\nstate/region     True\nages             True\nyear             True\npopulation      False\nstate           False\ndtype: bool\n"
     ]
    },
    {
     "output_type": "execute_result",
     "data": {
      "text/plain": [
       "     state/region     ages  year   population state\n",
       "2448           PR  under18  1990          NaN   NaN\n",
       "2449           PR    total  1990          NaN   NaN\n",
       "2450           PR    total  1991          NaN   NaN\n",
       "2451           PR  under18  1991          NaN   NaN\n",
       "2452           PR    total  1993          NaN   NaN\n",
       "...           ...      ...   ...          ...   ...\n",
       "2539          USA    total  2010  309326295.0   NaN\n",
       "2540          USA  under18  2011   73902222.0   NaN\n",
       "2541          USA    total  2011  311582564.0   NaN\n",
       "2542          USA  under18  2012   73708179.0   NaN\n",
       "2543          USA    total  2012  313873685.0   NaN\n",
       "\n",
       "[96 rows x 5 columns]"
      ],
      "text/html": "<div>\n<style scoped>\n    .dataframe tbody tr th:only-of-type {\n        vertical-align: middle;\n    }\n\n    .dataframe tbody tr th {\n        vertical-align: top;\n    }\n\n    .dataframe thead th {\n        text-align: right;\n    }\n</style>\n<table border=\"1\" class=\"dataframe\">\n  <thead>\n    <tr style=\"text-align: right;\">\n      <th></th>\n      <th>state/region</th>\n      <th>ages</th>\n      <th>year</th>\n      <th>population</th>\n      <th>state</th>\n    </tr>\n  </thead>\n  <tbody>\n    <tr>\n      <th>2448</th>\n      <td>PR</td>\n      <td>under18</td>\n      <td>1990</td>\n      <td>NaN</td>\n      <td>NaN</td>\n    </tr>\n    <tr>\n      <th>2449</th>\n      <td>PR</td>\n      <td>total</td>\n      <td>1990</td>\n      <td>NaN</td>\n      <td>NaN</td>\n    </tr>\n    <tr>\n      <th>2450</th>\n      <td>PR</td>\n      <td>total</td>\n      <td>1991</td>\n      <td>NaN</td>\n      <td>NaN</td>\n    </tr>\n    <tr>\n      <th>2451</th>\n      <td>PR</td>\n      <td>under18</td>\n      <td>1991</td>\n      <td>NaN</td>\n      <td>NaN</td>\n    </tr>\n    <tr>\n      <th>2452</th>\n      <td>PR</td>\n      <td>total</td>\n      <td>1993</td>\n      <td>NaN</td>\n      <td>NaN</td>\n    </tr>\n    <tr>\n      <th>...</th>\n      <td>...</td>\n      <td>...</td>\n      <td>...</td>\n      <td>...</td>\n      <td>...</td>\n    </tr>\n    <tr>\n      <th>2539</th>\n      <td>USA</td>\n      <td>total</td>\n      <td>2010</td>\n      <td>309326295.0</td>\n      <td>NaN</td>\n    </tr>\n    <tr>\n      <th>2540</th>\n      <td>USA</td>\n      <td>under18</td>\n      <td>2011</td>\n      <td>73902222.0</td>\n      <td>NaN</td>\n    </tr>\n    <tr>\n      <th>2541</th>\n      <td>USA</td>\n      <td>total</td>\n      <td>2011</td>\n      <td>311582564.0</td>\n      <td>NaN</td>\n    </tr>\n    <tr>\n      <th>2542</th>\n      <td>USA</td>\n      <td>under18</td>\n      <td>2012</td>\n      <td>73708179.0</td>\n      <td>NaN</td>\n    </tr>\n    <tr>\n      <th>2543</th>\n      <td>USA</td>\n      <td>total</td>\n      <td>2012</td>\n      <td>313873685.0</td>\n      <td>NaN</td>\n    </tr>\n  </tbody>\n</table>\n<p>96 rows × 5 columns</p>\n</div>"
     },
     "metadata": {},
     "execution_count": 131
    }
   ],
   "source": [
    "print('Columns with missing data:')\n",
    "print(new.notna().all())\n",
    "\n",
    "is_NaN = new.isnull()\n",
    "row_has_NaN = is_NaN.any(axis=1)\n",
    "rows_with_NaN = new[row_has_NaN]\n",
    "\n",
    "missing_data_rows = pd.DataFrame(rows_with_NaN)\n",
    "\n",
    "missing_data_rows\n",
    "\n",
    "# Sources Used:\n",
    "\n",
    "# Print Rows with NaN Values - https://www.kite.com/python/answers/how-to-find-rows-with-nan-values-in-a-pandas-dataframe-in-python\n",
    "\n",
    "# In-Class Example Code\n"
   ]
  },
  {
   "source": [
    "Part 4:"
   ],
   "cell_type": "markdown",
   "metadata": {}
  },
  {
   "cell_type": "code",
   "execution_count": 132,
   "metadata": {},
   "outputs": [
    {
     "output_type": "stream",
     "name": "stdout",
     "text": [
      "First 2 Rows of Puerto Rico:\n     state/region     ages  year  population state\n2448  Puerto Rico  under18  1990         NaN   NaN\n2449  Puerto Rico    total  1990         NaN   NaN \n\nFirst 2 Rows of United States:\n       state/region   ages  year   population state\n2539  United States  total  2010  309326295.0   NaN\n       state/region     ages  year  population state\n2540  United States  under18  2011  73902222.0   NaN \n\nFirst 2 Rows After Population \"NaN\" Drop:\n  state/region     ages  year  population    state\n0           AL  under18  2012   1117489.0  Alabama\n1           AL    total  2012   4817528.0  Alabama \n\nConfirmation to Show no Remaining NaN Values in Any Column After Fixes\n     state/region     ages  year  population    state\n0              AL  under18  2012   1117489.0  Alabama\n1              AL    total  2012   4817528.0  Alabama\n2              AL  under18  2010   1130966.0  Alabama\n3              AL    total  2010   4785570.0  Alabama\n4              AL  under18  2011   1125763.0  Alabama\n...           ...      ...   ...         ...      ...\n2443           WY  under18  1993    137458.0  Wyoming\n2444           WY    total  1991    459260.0  Wyoming\n2445           WY  under18  1991    136720.0  Wyoming\n2446           WY  under18  1990    136078.0  Wyoming\n2447           WY    total  1990    453690.0  Wyoming\n\n[2448 rows x 5 columns]\n"
     ]
    }
   ],
   "source": [
    "new.loc[new['state/region'] == 'PR', 'state/region'] = 'Puerto Rico'\n",
    "new.loc[new['state/region'] == 'USA', 'state/region'] = 'United States'\n",
    "\n",
    "is_NaN = new.isnull()\n",
    "row_has_NaN = is_NaN.any(axis=1)\n",
    "rows_with_NaN = new[row_has_NaN]\n",
    "\n",
    "missing_data_rows_2 = pd.DataFrame(rows_with_NaN)\n",
    "\n",
    "print('First 2 Rows of Puerto Rico:')\n",
    "print(missing_data_rows_2.head(2),'\\n')\n",
    "\n",
    "print('First 2 Rows of United States:')\n",
    "print(missing_data_rows_2.loc[[2539]])\n",
    "print(missing_data_rows_2.loc[[2540]], '\\n')\n",
    "\n",
    "print('First 2 Rows After Population \"NaN\" Drop:')\n",
    "print(new.dropna().head(2), '\\n')\n",
    "\n",
    "print('Confirmation to Show no Remaining NaN Values in Any Column After Fixes')\n",
    "print(new.dropna())\n",
    "\n",
    "# Sources Used:\n",
    "\n",
    "# In-Class Demo Code\n",
    "\n",
    "# Stack Overflow Hint Article Provided - https://stackoverflow.com/questions/47953338/how-to-replace-values-of-selected-row-of-a-column-in-pandas-dataframe\n"
   ]
  },
  {
   "source": [
    "Part 5:"
   ],
   "cell_type": "markdown",
   "metadata": {}
  },
  {
   "cell_type": "code",
   "execution_count": 133,
   "metadata": {},
   "outputs": [
    {
     "output_type": "execute_result",
     "data": {
      "text/plain": [
       "     state/region     ages  year  population    state  area (sq. mi)  \\\n",
       "0              AL  under18  2012   1117489.0  Alabama          52423   \n",
       "1              AL    total  2012   4817528.0  Alabama          52423   \n",
       "2              AL  under18  2010   1130966.0  Alabama          52423   \n",
       "3              AL    total  2010   4785570.0  Alabama          52423   \n",
       "4              AL  under18  2011   1125763.0  Alabama          52423   \n",
       "...           ...      ...   ...         ...      ...            ...   \n",
       "2443           WY  under18  1993    137458.0  Wyoming          97818   \n",
       "2444           WY    total  1991    459260.0  Wyoming          97818   \n",
       "2445           WY  under18  1991    136720.0  Wyoming          97818   \n",
       "2446           WY  under18  1990    136078.0  Wyoming          97818   \n",
       "2447           WY    total  1990    453690.0  Wyoming          97818   \n",
       "\n",
       "        density  \n",
       "0     21.316769  \n",
       "1     91.897221  \n",
       "2     21.573851  \n",
       "3     91.287603  \n",
       "4     21.474601  \n",
       "...         ...  \n",
       "2443   1.405242  \n",
       "2444   4.695046  \n",
       "2445   1.397698  \n",
       "2446   1.391135  \n",
       "2447   4.638103  \n",
       "\n",
       "[2448 rows x 7 columns]"
      ],
      "text/html": "<div>\n<style scoped>\n    .dataframe tbody tr th:only-of-type {\n        vertical-align: middle;\n    }\n\n    .dataframe tbody tr th {\n        vertical-align: top;\n    }\n\n    .dataframe thead th {\n        text-align: right;\n    }\n</style>\n<table border=\"1\" class=\"dataframe\">\n  <thead>\n    <tr style=\"text-align: right;\">\n      <th></th>\n      <th>state/region</th>\n      <th>ages</th>\n      <th>year</th>\n      <th>population</th>\n      <th>state</th>\n      <th>area (sq. mi)</th>\n      <th>density</th>\n    </tr>\n  </thead>\n  <tbody>\n    <tr>\n      <th>0</th>\n      <td>AL</td>\n      <td>under18</td>\n      <td>2012</td>\n      <td>1117489.0</td>\n      <td>Alabama</td>\n      <td>52423</td>\n      <td>21.316769</td>\n    </tr>\n    <tr>\n      <th>1</th>\n      <td>AL</td>\n      <td>total</td>\n      <td>2012</td>\n      <td>4817528.0</td>\n      <td>Alabama</td>\n      <td>52423</td>\n      <td>91.897221</td>\n    </tr>\n    <tr>\n      <th>2</th>\n      <td>AL</td>\n      <td>under18</td>\n      <td>2010</td>\n      <td>1130966.0</td>\n      <td>Alabama</td>\n      <td>52423</td>\n      <td>21.573851</td>\n    </tr>\n    <tr>\n      <th>3</th>\n      <td>AL</td>\n      <td>total</td>\n      <td>2010</td>\n      <td>4785570.0</td>\n      <td>Alabama</td>\n      <td>52423</td>\n      <td>91.287603</td>\n    </tr>\n    <tr>\n      <th>4</th>\n      <td>AL</td>\n      <td>under18</td>\n      <td>2011</td>\n      <td>1125763.0</td>\n      <td>Alabama</td>\n      <td>52423</td>\n      <td>21.474601</td>\n    </tr>\n    <tr>\n      <th>...</th>\n      <td>...</td>\n      <td>...</td>\n      <td>...</td>\n      <td>...</td>\n      <td>...</td>\n      <td>...</td>\n      <td>...</td>\n    </tr>\n    <tr>\n      <th>2443</th>\n      <td>WY</td>\n      <td>under18</td>\n      <td>1993</td>\n      <td>137458.0</td>\n      <td>Wyoming</td>\n      <td>97818</td>\n      <td>1.405242</td>\n    </tr>\n    <tr>\n      <th>2444</th>\n      <td>WY</td>\n      <td>total</td>\n      <td>1991</td>\n      <td>459260.0</td>\n      <td>Wyoming</td>\n      <td>97818</td>\n      <td>4.695046</td>\n    </tr>\n    <tr>\n      <th>2445</th>\n      <td>WY</td>\n      <td>under18</td>\n      <td>1991</td>\n      <td>136720.0</td>\n      <td>Wyoming</td>\n      <td>97818</td>\n      <td>1.397698</td>\n    </tr>\n    <tr>\n      <th>2446</th>\n      <td>WY</td>\n      <td>under18</td>\n      <td>1990</td>\n      <td>136078.0</td>\n      <td>Wyoming</td>\n      <td>97818</td>\n      <td>1.391135</td>\n    </tr>\n    <tr>\n      <th>2447</th>\n      <td>WY</td>\n      <td>total</td>\n      <td>1990</td>\n      <td>453690.0</td>\n      <td>Wyoming</td>\n      <td>97818</td>\n      <td>4.638103</td>\n    </tr>\n  </tbody>\n</table>\n<p>2448 rows × 7 columns</p>\n</div>"
     },
     "metadata": {},
     "execution_count": 133
    }
   ],
   "source": [
    "areas = pd.read_csv(\"https://raw.githubusercontent.com/jakevdp/data-USstates/master/state-areas.csv\")\n",
    "\n",
    "merged_set = pd.merge(new, areas)\n",
    "\n",
    "#print(merged_set)\n",
    "\n",
    "#print(merged_set['population'])\n",
    "\n",
    "population = merged_set['population']\n",
    "area = merged_set['area (sq. mi)']\n",
    "density = (population/area)\n",
    "\n",
    "\n",
    "merged_set['density'] = density\n",
    "\n",
    "merged_set\n",
    "\n",
    "# Sources Used:\n",
    "\n",
    "# In-Class Demo Code\n",
    "\n",
    "# https://www.geeksforgeeks.org/adding-new-column-to-existing-dataframe-in-pandas/"
   ]
  },
  {
   "source": [
    "Part 6:"
   ],
   "cell_type": "markdown",
   "metadata": {}
  },
  {
   "cell_type": "code",
   "execution_count": 134,
   "metadata": {},
   "outputs": [
    {
     "output_type": "stream",
     "name": "stdout",
     "text": [
      "The maximum density:\n    state/region   ages  year  population                 state  \\\n391           DC  total  2013    646449.0  District of Columbia   \n\n     area (sq. mi)      density  \n391             68  9506.602941  \n\n\nFor the year \"2010\", the maximum, minimum, and average \"density\":\nMaximum: 8898.89705882353\nMinimum: 0.2862505236698785\nAverage: 202.25008766917844\n\n\nFor the year 2010, the state that had the highest \"density\" of age group \"under18\":\nstate/region              WY\nages                 under18\nyear                    2010\npopulation       9.28409e+06\nstate                Wyoming\narea (sq. mi)         656425\ndensity              1489.84\ndtype: object\n\n\nTotal Sum of Population of All States for Each Year:\n    year  total_population\n0   1990       313841326.0\n1   1991       318293960.0\n2   1992       323023408.0\n3   1993       327513533.0\n4   1994       331766762.0\n5   1995       335751543.0\n6   1996       339627803.0\n7   1997       343567670.0\n8   1998       347285522.0\n9   1999       350986232.0\n10  2000       354538600.0\n11  2001       357640130.0\n12  2002       360561650.0\n13  2003       363208691.0\n14  2004       366103033.0\n15  2005       369040268.0\n16  2006       372137626.0\n17  2007       375250612.0\n18  2008       378198568.0\n19  2009       380905696.0\n20  2010       383445851.0\n21  2011       385484786.0\n22  2012       387581864.0\n23  2013       389714711.0\n\n\n     state/region     ages  year  population          state  area (sq. mi)  \\\n0              AL  under18  2012   1117489.0        Alabama          52423   \n1              AL    total  2012   4817528.0        Alabama          52423   \n2              AK  under18  2012    188162.0         Alaska         656425   \n3              AK    total  2012    730307.0         Alaska         656425   \n4              AZ  under18  2012   1617149.0        Arizona         114006   \n...           ...      ...   ...         ...            ...            ...   \n2443           WV    total  1990   1792548.0  West Virginia          24231   \n2444           WI  under18  1990   1302869.0      Wisconsin          65503   \n2445           WI    total  1990   4904562.0      Wisconsin          65503   \n2446           WY  under18  1990    136078.0        Wyoming          97818   \n2447           WY    total  1990    453690.0        Wyoming          97818   \n\n        density  total_population  \n0     21.316769       387581864.0  \n1     91.897221       387581864.0  \n2      0.286647       387581864.0  \n3      1.112552       387581864.0  \n4     14.184771       387581864.0  \n...         ...               ...  \n2443  73.977467       313841326.0  \n2444  19.890219       313841326.0  \n2445  74.875380       313841326.0  \n2446   1.391135       313841326.0  \n2447   4.638103       313841326.0  \n\n[2448 rows x 8 columns]\n"
     ]
    }
   ],
   "source": [
    "\n",
    "print('The maximum density:')\n",
    "print(merged_set[merged_set.density == merged_set.density.max()])\n",
    "\n",
    "print('\\n')\n",
    "print('For the year \"2010\", the maximum, minimum, and average \"density\":')\n",
    "max_2010 = merged_set.loc[merged_set['year'] == 2010]\n",
    "max_density_under_18 = max_2010.loc[max_2010['ages'] == 'under18']\n",
    "\n",
    "print(f\"Maximum: {max_2010['density'].max()}\")\n",
    "print(f\"Minimum: {max_2010['density'].min()}\")\n",
    "print(f\"Average: {max_2010['density'].mean()}\")\n",
    "print('\\n')\n",
    "\n",
    "print('For the year 2010, the state that had the highest \"density\" of age group \"under18\":')\n",
    "print(max_density_under_18.max())\n",
    "print('\\n')\n",
    "\n",
    "print('Total Sum of Population of All States for Each Year:')\n",
    "total_pop = merged_set.groupby('year')['population'].sum().reset_index(name='total_population')\n",
    "print(total_pop)\n",
    "print('\\n')\n",
    "\n",
    "set_with_pop_totals = merged_set.merge(total_pop)\n",
    "print(set_with_pop_totals)\n",
    "\n",
    "# Sources Used:\n",
    "\n",
    "# In-Class Examples/Demo Code\n",
    "\n",
    "# Finding the Max Value - https://www.kite.com/python/answers/how-to-find-the-max-value-of-a-pandas-dataframe-column-in-python\n",
    "\n",
    "# Get Column Average - https://stackoverflow.com/questions/31037298/pandas-get-column-average-mean"
   ]
  }
 ]
}