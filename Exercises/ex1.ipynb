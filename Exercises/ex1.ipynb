{
 "metadata": {
  "language_info": {
   "codemirror_mode": {
    "name": "ipython",
    "version": 3
   },
   "file_extension": ".py",
   "mimetype": "text/x-python",
   "name": "python",
   "nbconvert_exporter": "python",
   "pygments_lexer": "ipython3",
   "version": "3.8.3"
  },
  "orig_nbformat": 2,
  "kernelspec": {
   "name": "python383jvsc74a57bd0b3ba2566441a7c06988d0923437866b63cedc61552a5af99d1f4fb67d367b25f",
   "display_name": "Python 3.8.3 64-bit ('base': conda)"
  }
 },
 "nbformat": 4,
 "nbformat_minor": 2,
 "cells": [
  {
   "source": [
    "# Exercise 1\n",
    "\n",
    "Part 1:"
   ],
   "cell_type": "markdown",
   "metadata": {}
  },
  {
   "cell_type": "code",
   "execution_count": 1,
   "metadata": {},
   "outputs": [
    {
     "output_type": "stream",
     "name": "stdout",
     "text": [
      "[48, 43, 38, 39, 35, 49, 45, 36, 43, 5, 18, 11, 25, 21, 10, 12, 14, 16, 19, 35, 50, 49, 37, 5, 17, 38, 9, 12, 29, 16, 24, 5, 27, 14, 34, 38, 35, 31, 48, 24]\nThe average of the list is: 27.6\n"
     ]
    }
   ],
   "source": [
    "import random\n",
    "random_list=[]\n",
    "for i in range(1,41):\n",
    "    random_list.append(random.randint(5,50))\n",
    "print(random_list)\n",
    "sum_list=sum(random_list)\n",
    "len_list=len(random_list)\n",
    "avg_num=sum_list/len_list\n",
    "rounded=round(avg_num, 1)\n",
    "print(f\"The average of the list is: {rounded}\")\n",
    "\n",
    "# Sources Used:\n",
    "\n",
    "# In-class exercise examples\n",
    "\n",
    "# Kodify.net: https://kodify.net/python/math/round-decimals/#round-python-values-to-two-decimals-places-and-more\n",
    "\n"
   ]
  },
  {
   "source": [
    "Part 2:"
   ],
   "cell_type": "markdown",
   "metadata": {}
  },
  {
   "cell_type": "code",
   "execution_count": 2,
   "metadata": {},
   "outputs": [
    {
     "output_type": "stream",
     "name": "stdout",
     "text": [
      "Known IP Addresses Updated:\n\t12.45.23.1\n\t89.34.23.67\n\t67.45.23.43\n\t90.32.65.98\n\t45.23.98.12\n\t89.23.21.9\n"
     ]
    }
   ],
   "source": [
    "known_ips = ['12.45.23.1', '89.34.23.67', '67.45.23.43', '90.32.65.98']\n",
    "new_ips = ['45.23.98.12', '89.23.21.9', '67.45.23.43', '1.1.1.1']\n",
    "\n",
    "for new_ip in new_ips:\n",
    "    if new_ip not in known_ips and new_ip != '1.1.1.1':\n",
    "           known_ips.append(new_ip)\n",
    "\n",
    "print('Known IP Addresses Updated:')\n",
    "\n",
    "for known_ip in known_ips:\n",
    "    print(f\"\\t{known_ip}\")\n",
    "    \n",
    "# Source Used:\n",
    "\n",
    "# In-class exercise examples\n"
   ]
  },
  {
   "source": [
    "Part 3:"
   ],
   "cell_type": "markdown",
   "metadata": {}
  },
  {
   "cell_type": "code",
   "execution_count": 3,
   "metadata": {},
   "outputs": [
    {
     "output_type": "stream",
     "name": "stdout",
     "text": [
      "buzz buzz\nbuzz buzz\nbuzz buzz\nbuzz buzz\nbuzz buzz\n"
     ]
    }
   ],
   "source": [
    "import re\n",
    "\n",
    "camelcase = ['bees', 'BEES', 'BeEs', 'Bees','BeeS']\n",
    "\n",
    "for element in camelcase:\n",
    "    m = re.match(\"[a-zA-Z]\", element)\n",
    "\n",
    "    if m:\n",
    "        print('buzz buzz')\n",
    "\n",
    "# Sources Used:\n",
    "\n",
    "# regex101 Website - https://regex101.com/\n",
    "\n",
    "# https://www.dotnetperls.com/re-python\n"
   ]
  }
 ]
}